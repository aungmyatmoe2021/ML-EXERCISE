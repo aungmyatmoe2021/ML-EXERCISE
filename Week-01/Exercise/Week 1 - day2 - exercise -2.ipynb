{
 "cells": [
  {
   "cell_type": "markdown",
   "id": "0d0481d9",
   "metadata": {},
   "source": [
    "# Sum\n",
    "\n",
    "Write a Python program to sum all the items in a list using **def**.\n"
   ]
  },
  {
   "cell_type": "markdown",
   "id": "56d4ed56",
   "metadata": {},
   "source": [
    "#  Find Index and Replace"
   ]
  },
  {
   "cell_type": "markdown",
   "id": "6813d6ba",
   "metadata": {
    "ExecuteTime": {
     "end_time": "2022-06-23T08:28:19.966741Z",
     "start_time": "2022-06-23T08:28:19.963225Z"
    }
   },
   "source": [
    "You have given a Python list. Write a program to find value 20 in the list, and if it is present, replace it with 200. Only update the first occurrence of an item.\n",
    "\n",
    "```\n",
    "Given list : [5, 10, 15, 20, 25, 50, 1]\n",
    "\n",
    "Expected Output :\n",
    "[5, 10, 15, 200, 25, 50, 1]\n",
    "\n",
    "\n",
    "```"
   ]
  },
  {
   "cell_type": "markdown",
   "id": "c5031a3e",
   "metadata": {},
   "source": [
    "# Turn every item of a list into its square\n",
    "\n",
    "Given a list of numbers. write a program to turn every item of a list into its square.\n",
    "\n",
    "Given \n",
    "```\n",
    "numbers = [1, 2, 3, 4, 5, 6, 7]\n",
    "```\n",
    "\n",
    "Expected Output\n",
    "\n",
    "```\n",
    "[1, 4, 9, 16, 25, 36, 49]\n",
    "\n",
    "```\n"
   ]
  },
  {
   "cell_type": "markdown",
   "id": "9ce94572",
   "metadata": {},
   "source": [
    "# Add new item to list after a specified item\n",
    "\n",
    "Write a program to add item 7000 after 6000 in the following Python List\n",
    "\n",
    "Given:\n",
    "\n",
    "```\n",
    "list1 = [10, 20, [300, 400, [5000, 6000], 500], 30, 40]\n",
    "\n",
    "```\n",
    "\n",
    "Expected Output\n",
    "\n",
    "```\n",
    "[10, 20, [300, 400, [5000, 6000, 7000], 500], 30, 40]\n",
    "\n",
    "```"
   ]
  },
  {
   "cell_type": "markdown",
   "id": "4c9a1494",
   "metadata": {},
   "source": [
    "#  Extend nested list by adding the sublist\n",
    "\n",
    "Given Lists\n",
    "\n",
    "```\n",
    "list1 = [\"a\", \"b\", [\"c\", [\"d\", \"e\", [\"f\", \"g\"], \"k\"], \"l\"], \"m\", \"n\"]\n",
    "\n",
    "# sub list to add\n",
    "sub_list = [\"h\", \"i\", \"j\"]\n",
    "```\n",
    "\n",
    "Expected Output\n",
    "\n",
    "```\n",
    "['a', 'b', ['c', ['d', 'e', ['f', 'g', 'h', 'i', 'j'], 'k'], 'l'], 'm', 'n']\n",
    "\n",
    "```"
   ]
  },
  {
   "cell_type": "markdown",
   "id": "895040de",
   "metadata": {},
   "source": [
    "# Remove all occurrences of a specific item from a list.\n",
    "\n",
    "\n",
    "Given a Python list, write a program to remove all occurrences of item 20.\n",
    "\n",
    "Given\n",
    "\n",
    "```\n",
    "list1 = [5, 20, 15, 20, 25, 50, 20]\n",
    "```\n",
    "\n",
    "Expected Output\n",
    "\n",
    "```\n",
    "[5, 15, 25, 50]\n",
    "\n",
    "```"
   ]
  },
  {
   "cell_type": "code",
   "execution_count": null,
   "id": "c4f0b946",
   "metadata": {},
   "outputs": [],
   "source": []
  }
 ],
 "metadata": {
  "kernelspec": {
   "display_name": "python_ml",
   "language": "python",
   "name": "python_ml"
  },
  "language_info": {
   "codemirror_mode": {
    "name": "ipython",
    "version": 3
   },
   "file_extension": ".py",
   "mimetype": "text/x-python",
   "name": "python",
   "nbconvert_exporter": "python",
   "pygments_lexer": "ipython3",
   "version": "3.9.0"
  },
  "toc": {
   "base_numbering": 1,
   "nav_menu": {},
   "number_sections": true,
   "sideBar": true,
   "skip_h1_title": false,
   "title_cell": "Table of Contents",
   "title_sidebar": "Contents",
   "toc_cell": false,
   "toc_position": {
    "height": "calc(100% - 180px)",
    "left": "10px",
    "top": "150px",
    "width": "263.273px"
   },
   "toc_section_display": true,
   "toc_window_display": true
  },
  "varInspector": {
   "cols": {
    "lenName": 16,
    "lenType": 16,
    "lenVar": 40
   },
   "kernels_config": {
    "python": {
     "delete_cmd_postfix": "",
     "delete_cmd_prefix": "del ",
     "library": "var_list.py",
     "varRefreshCmd": "print(var_dic_list())"
    },
    "r": {
     "delete_cmd_postfix": ") ",
     "delete_cmd_prefix": "rm(",
     "library": "var_list.r",
     "varRefreshCmd": "cat(var_dic_list()) "
    }
   },
   "types_to_exclude": [
    "module",
    "function",
    "builtin_function_or_method",
    "instance",
    "_Feature"
   ],
   "window_display": false
  }
 },
 "nbformat": 4,
 "nbformat_minor": 5
}
