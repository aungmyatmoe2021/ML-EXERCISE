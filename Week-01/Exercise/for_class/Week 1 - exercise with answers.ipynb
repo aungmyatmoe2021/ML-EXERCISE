{
 "cells": [
  {
   "cell_type": "markdown",
   "id": "8d2fef1e",
   "metadata": {},
   "source": [
    "# Debugging\n",
    "Debug the below code block"
   ]
  },
  {
   "cell_type": "code",
   "execution_count": 1,
   "id": "7e906b49",
   "metadata": {
    "ExecuteTime": {
     "end_time": "2022-06-26T05:36:08.875106Z",
     "start_time": "2022-06-26T05:36:08.869164Z"
    }
   },
   "outputs": [
    {
     "name": "stdout",
     "output_type": "stream",
     "text": [
      "Day 1 - String Manipulation\n",
      "String Concatenation is done with the  sign.\n",
      "New lines can be created with a backslash and n.\n"
     ]
    }
   ],
   "source": [
    "print(\"Day 1 - String Manipulation\")\n",
    "print(\"String Concatenation is done with the \"+' sign.')\n",
    "print(\"New lines can be created with a backslash and n.\")"
   ]
  },
  {
   "cell_type": "markdown",
   "id": "ad84953f",
   "metadata": {},
   "source": [
    "# input function\n",
    "Write a program that prints the number of characters in a user's name. "
   ]
  },
  {
   "cell_type": "code",
   "execution_count": null,
   "id": "3be69a69",
   "metadata": {},
   "outputs": [],
   "source": [
    "print( len( input(\"What is your name? \") ) )"
   ]
  },
  {
   "cell_type": "markdown",
   "id": "b4625f86",
   "metadata": {},
   "source": [
    "# Variables\n",
    "Write a program that switches the values stored in the variables a and b."
   ]
  },
  {
   "cell_type": "markdown",
   "id": "244d2fd2",
   "metadata": {},
   "source": [
    "Hint\n",
    "\n",
    "You should not have to type any numbers in your code.\n",
    "\n",
    "You might need to make some more variables."
   ]
  },
  {
   "cell_type": "markdown",
   "id": "9f10833b",
   "metadata": {
    "ExecuteTime": {
     "end_time": "2022-06-24T05:01:50.863301Z",
     "start_time": "2022-06-24T05:01:50.857649Z"
    }
   },
   "source": [
    "Example Input\n",
    "\n",
    "a: 3\n",
    "\n",
    "b: 5\n",
    "    \n",
    "Example Output\n",
    "\n",
    "a: 5\n",
    "\n",
    "b: 3"
   ]
  },
  {
   "cell_type": "code",
   "execution_count": null,
   "id": "fa8ece88",
   "metadata": {},
   "outputs": [],
   "source": [
    "a = input(\"a: \")\n",
    "b = input(\"b: \")\n",
    "# Don't change the code above \n",
    "\n",
    "\n",
    "#Write your code below this line \n",
    "\n",
    "c = a\n",
    "a = b\n",
    "b = c\n",
    "\n",
    "\n",
    "#  Don't change the code below \n",
    "print(\"a: \" + a)\n",
    "print(\"b: \" + b)"
   ]
  },
  {
   "cell_type": "markdown",
   "id": "afe79432",
   "metadata": {},
   "source": [
    "# Create a string made of the first, middle and last character"
   ]
  },
  {
   "cell_type": "markdown",
   "id": "992977b1",
   "metadata": {
    "ExecuteTime": {
     "end_time": "2022-06-23T15:44:57.699987Z",
     "start_time": "2022-06-23T15:44:57.691227Z"
    }
   },
   "source": [
    "Write a program to create a new string made of an input string’s first, middle, and last character.\n",
    "\n",
    "\n",
    "Given : \n",
    "\n",
    "> str1 = \"James\"\n",
    "\n",
    "\n",
    "\n",
    "Output : \n",
    "\n",
    "\n",
    "> Jms\n"
   ]
  },
  {
   "cell_type": "code",
   "execution_count": null,
   "id": "9f72e9a8",
   "metadata": {},
   "outputs": [],
   "source": [
    "str1 = 'James'\n",
    "print(\"Original String is\", str1)\n",
    "\n",
    "# Get first character\n",
    "res = str1[0]\n",
    "\n",
    "# Get string size\n",
    "l = len(str1)\n",
    "# Get middle index number\n",
    "mi = int(l / 2)\n",
    "# Get middle character and add it to result\n",
    "res = res + str1[mi]\n",
    "\n",
    "# Get last character and add it to result\n",
    "res = res + str1[l - 1]\n",
    "\n",
    "print(\"New String:\", res)\n"
   ]
  },
  {
   "cell_type": "markdown",
   "id": "e45197ef",
   "metadata": {},
   "source": [
    "# Pet City\n",
    "\n",
    "1. Ask the user for the name of pet.\n",
    "\n",
    "2. Ask the user for the city that they grew up in.\n",
    "\n",
    "3. Combine the name of their city and pet and print city name."
   ]
  },
  {
   "cell_type": "code",
   "execution_count": 3,
   "id": "2ab302d3",
   "metadata": {
    "ExecuteTime": {
     "end_time": "2022-06-24T16:38:05.440684Z",
     "start_time": "2022-06-24T16:37:32.412470Z"
    }
   },
   "outputs": [
    {
     "name": "stdout",
     "output_type": "stream",
     "text": [
      "What's the name of your pet?\n",
      "bunny\n",
      "What's name of the city you grew up in?\n",
      "yangon\n",
      "The city name could be bunny yangon\n"
     ]
    }
   ],
   "source": [
    "pet = input(\"What's the name of your pet?\\n\")\n",
    "city = input(\"What's name of the city you grew up in?\\n\")\n",
    "\n",
    "print(\"The city name could be \" + pet + \" \" +city)"
   ]
  },
  {
   "cell_type": "markdown",
   "id": "0d310b49",
   "metadata": {},
   "source": [
    "# Data types\n",
    "Write a program that adds the digits in a 2 digit number. e.g. if the input was 35, then the output should be 3 + 5 = 8"
   ]
  },
  {
   "cell_type": "markdown",
   "id": "f8476c24",
   "metadata": {},
   "source": [
    "Example Input\n",
    "\n",
    "39\n",
    "\n",
    "Example output \n",
    "\n",
    "3 + 9 = 12\n",
    "\n",
    "12"
   ]
  },
  {
   "cell_type": "code",
   "execution_count": 10,
   "id": "8f4b3ab3",
   "metadata": {
    "ExecuteTime": {
     "end_time": "2022-06-24T09:26:20.538982Z",
     "start_time": "2022-06-24T09:26:18.574220Z"
    }
   },
   "outputs": [
    {
     "name": "stdout",
     "output_type": "stream",
     "text": [
      "Type a two digit number: 34\n",
      "<class 'str'>\n",
      "7\n"
     ]
    }
   ],
   "source": [
    "two_digit_number = input(\"Type a two digit number: \")\n",
    "#  Don't change the code above \n",
    "#Write your code below this line \n",
    "\n",
    "#Check the data type of two_digit_number\n",
    "print(type(two_digit_number))\n",
    "\n",
    "#Get the first and second digits using subscripting then convert string to int.\n",
    "first_digit = int(two_digit_number[0])\n",
    "second_digit = int(two_digit_number[1])\n",
    "\n",
    "#Add the two digits togeter\n",
    "two_digit_number = first_digit + second_digit\n",
    "\n",
    "print(two_digit_number)\n"
   ]
  },
  {
   "cell_type": "markdown",
   "id": "cd95253c",
   "metadata": {},
   "source": [
    "# tip calculator!\n",
    "\n",
    "What was the total bill? $124.56\n",
    "\n",
    "How much tip would you like to give? 10, 12, or 15? 12\n",
    "\n",
    "How many people to split the bill? 7"
   ]
  },
  {
   "cell_type": "code",
   "execution_count": null,
   "id": "7c805f52",
   "metadata": {},
   "outputs": [],
   "source": [
    "#If the bill was $150.00, split between 5 people, with 12% tip. \n",
    "#Each person should pay (150.00 / 5) * 1.12 = 33.6\n",
    "#Round the result to 2 decimal places.\n",
    "\n",
    "bill = float(input(\"What was the total bill? $\"))\n",
    "tip = int(input(\"How much tip would you like to give? 10, 12, or 15? \"))\n",
    "people = int(input(\"How many people to split the bill?\"))\n",
    "\n",
    "tip_as_percent = tip / 100\n",
    "total_tip_amount = bill * tip_as_percent\n",
    "total_bill = bill + total_tip_amount\n",
    "bill_per_person = total_bill / people\n",
    "final_amount = round(bill_per_person, 2)\n",
    "\n",
    "\n",
    "print(f\"Each person should pay: ${final_amount}\")"
   ]
  },
  {
   "cell_type": "markdown",
   "id": "1c3ae3e9",
   "metadata": {},
   "source": [
    "# Even Odd\n",
    "\n",
    "Write a program that works out whether if a given number is an odd or even number.\n",
    "\n",
    "**hint**:\n",
    "The modulo is written as a percentage sign (%) in Python. It gives you the remainder after a division."
   ]
  },
  {
   "cell_type": "code",
   "execution_count": null,
   "id": "758c5f56",
   "metadata": {},
   "outputs": [],
   "source": [
    "number = int(input(\"Which number do you want to check? \"))\n",
    "\n",
    "if number % 2 == 0:\n",
    "    print(\"This is an even number.\")\n",
    "\n",
    "else:\n",
    "    print(\"This is an odd number.\")"
   ]
  },
  {
   "cell_type": "markdown",
   "id": "42e246a7",
   "metadata": {
    "ExecuteTime": {
     "end_time": "2022-06-24T03:56:43.028877Z",
     "start_time": "2022-06-24T03:56:43.020860Z"
    }
   },
   "source": [
    "# Calculate the multiplication and sum of two numbers\n",
    "\n",
    "Given two integer numbers return their product only if the product is equal to or lower than 1000, else return their sum.\n",
    "\n",
    "\n",
    "Given \n",
    "\n",
    "```\n",
    "number1 = 20\n",
    "number2 = 30\n",
    "```\n",
    "\n",
    "Expected Output\n",
    "```\n",
    "The result is 600\n",
    "\n",
    "```\n"
   ]
  },
  {
   "cell_type": "code",
   "execution_count": 1,
   "id": "5db2b05e",
   "metadata": {
    "ExecuteTime": {
     "end_time": "2022-06-24T16:09:31.607807Z",
     "start_time": "2022-06-24T16:09:31.599928Z"
    }
   },
   "outputs": [],
   "source": [
    "def multiplication_or_sum(num1, num2):\n",
    "    # calculate product of two number\n",
    "    product = num1 * num2\n",
    "    # check if product is less then 1000\n",
    "    if product <= 1000:\n",
    "        return product\n",
    "    else:\n",
    "        # product is greater than 1000 calculate sum\n",
    "        return num1 + num2"
   ]
  },
  {
   "cell_type": "markdown",
   "id": "d8b11d3c",
   "metadata": {},
   "source": [
    "# BMI Calculator\n",
    "Write a program that interprets the Body Mass Index (BMI) based on a user's weight and height.\n",
    "\n",
    "It should tell them the interpretation of their BMI based on the BMI value.\n",
    "\n",
    "Under 18.5 they are underweight\n",
    "\n",
    "Over 18.5 but below 25 they have a normal weight\n",
    "\n",
    "Over 25 but below 30 they are slightly overweight\n",
    "\n",
    "Over 30 but below 35 they are obese\n",
    "\n",
    "Above 35 they are clinically obese."
   ]
  },
  {
   "cell_type": "code",
   "execution_count": 1,
   "id": "ff0b07a8",
   "metadata": {
    "ExecuteTime": {
     "end_time": "2022-06-25T14:48:51.406533Z",
     "start_time": "2022-06-25T14:48:08.085088Z"
    },
    "scrolled": true
   },
   "outputs": [
    {
     "name": "stdout",
     "output_type": "stream",
     "text": [
      "enter your height in m: 1.8\n",
      "enter your weight in kg: 90\n",
      "Your BMI is 28, you are slightly overweight.\n"
     ]
    }
   ],
   "source": [
    "height = float(input(\"enter your height in m: \"))\n",
    "weight = float(input(\"enter your weight in kg: \"))\n",
    "# 🚨 Don't change the code above 👆\n",
    "\n",
    "#Write your code below this line 👇\n",
    "\n",
    "bmi = round(weight / height ** 2)\n",
    "if bmi < 18.5:\n",
    "  print(f\"Your BMI is {bmi}, you are underweight.\")\n",
    "elif bmi < 25:\n",
    "  print(f\"Your BMI is {bmi}, you have a normal weight.\")\n",
    "elif bmi < 30:\n",
    "  print(f\"Your BMI is {bmi}, you are slightly overweight.\")\n",
    "elif bmi < 35:\n",
    "  print(f\"Your BMI is {bmi}, you are obese.\")\n",
    "else:\n",
    "  print(f\"Your BMI is {bmi}, you are clinically obese.\")"
   ]
  },
  {
   "cell_type": "markdown",
   "id": "25febb8b",
   "metadata": {},
   "source": [
    "# Grade calculator\n",
    "\n",
    "         Marks                        Grade\n",
    "         > 90                           A\n",
    "         > 80 and <= 90                 B\n",
    "         >= 60 and <= 80                C\n",
    "         below 60                       D"
   ]
  },
  {
   "cell_type": "code",
   "execution_count": 6,
   "id": "6f9adf30",
   "metadata": {
    "ExecuteTime": {
     "end_time": "2022-06-25T15:44:57.054808Z",
     "start_time": "2022-06-25T15:44:52.350236Z"
    }
   },
   "outputs": [
    {
     "name": "stdout",
     "output_type": "stream",
     "text": [
      "Enter marks: 60\n",
      "Grade is C\n"
     ]
    }
   ],
   "source": [
    "per = int(input(\"Enter marks: \"))\n",
    "if per > 90:\n",
    "    print(\"Grade is A\")\n",
    "if per > 80 and per <=90:\n",
    "    print(\"Grade is B\")\n",
    "if per >=60 and per <= 80:\n",
    "    print(\"Grade is C\")\n",
    "if per < 60:\n",
    "    print(\"Grade is D\")"
   ]
  },
  {
   "cell_type": "markdown",
   "id": "828908de",
   "metadata": {},
   "source": [
    "# Calculate the remaining age\n",
    "\n",
    "Create a program using maths and f-Strings that tells us how many days, weeks, months we have left if we live until 90 years old.\n",
    "\n",
    "It will take your current age as the input and output a message with our time left in this format:\n",
    "\n",
    "You have x days, y weeks, and z months left.\n",
    "\n",
    "Where x, y and z are replaced with the actual calculated numbers."
   ]
  },
  {
   "cell_type": "code",
   "execution_count": null,
   "id": "165226f6",
   "metadata": {},
   "outputs": [],
   "source": [
    "# 🚨 Don't change the code below 👇\n",
    "age = input(\"What is your current age? \")\n",
    "# 🚨 Don't change the code above 👆\n",
    "\n",
    "#Write your code below this line 👇\n",
    "\n",
    "years = 90 - int(age)\n",
    "months = round(years * 12)\n",
    "weeks = round(years * 52)\n",
    "days = round(years * 365)\n",
    "\n",
    "print(f\"You have {days} days, {weeks} weeks, and {months} months left.\")\n"
   ]
  },
  {
   "cell_type": "code",
   "execution_count": null,
   "id": "9a897a1a",
   "metadata": {},
   "outputs": [],
   "source": []
  },
  {
   "cell_type": "markdown",
   "id": "cb425287",
   "metadata": {},
   "source": [
    "# Switch Exercises\n",
    "\n",
    "Please write the folowing code using switch:"
   ]
  },
  {
   "cell_type": "code",
   "execution_count": null,
   "id": "f3e8afd5",
   "metadata": {},
   "outputs": [],
   "source": [
    "user_cmd = input(\"please input your choice:\\n\")\n",
    "if user_cmd == \"select\":\n",
    "    ops = \"select\"\n",
    "elif user_cmd == \"update\":\n",
    "    ops = \"update\"\n",
    "elif user_cmd == \"delete\":\n",
    "    ops = \"delete\"\n",
    "elif user_cmd == \"insert\":\n",
    "    ops = \"insert\"\n",
    "else:\n",
    "    ops = \"invalid choice!\"\n",
    "print(ops)"
   ]
  },
  {
   "cell_type": "code",
   "execution_count": null,
   "id": "cc63ff01",
   "metadata": {},
   "outputs": [],
   "source": [
    "# solution\n",
    "usercmd = input(\"please input your choice:\\n\")\n",
    "dic = {'select':'select action','update':'update action','delete':'delete action','insert':'insert action'}\n",
    "defaultitem = 'invalid choice!'\n",
    "ops = dic.get(usercmd,defaultitem)\n",
    "print(ops)"
   ]
  },
  {
   "cell_type": "markdown",
   "id": "fa45d51b",
   "metadata": {},
   "source": [
    "# String occurrence\n",
    "\n",
    "Write a program to find all occurrences of “USA” in a given string ignoring the case.\n",
    "\n",
    "Given \n",
    "\n",
    "```\n",
    "str1 = \"Welcome to USA. usa awesome, isn't it?\"\n",
    "```\n",
    "\n",
    "Expected Output\n",
    "\n",
    "```\n",
    "The USA count is: 2\n",
    "\n",
    "```"
   ]
  },
  {
   "cell_type": "code",
   "execution_count": 11,
   "id": "87032d0f",
   "metadata": {
    "ExecuteTime": {
     "end_time": "2022-06-25T16:16:50.612597Z",
     "start_time": "2022-06-25T16:16:50.609384Z"
    }
   },
   "outputs": [
    {
     "name": "stdout",
     "output_type": "stream",
     "text": [
      "The USA count is: 2\n"
     ]
    }
   ],
   "source": [
    "str1 = \"Welcome to USA. usa awesome, isn't it?\"\n",
    "sub_string = \"USA\"\n",
    "\n",
    "# convert string to lowercase\n",
    "temp_str = str1.lower()\n",
    "\n",
    "# use count function\n",
    "count = temp_str.count(sub_string.lower())\n",
    "print(\"The USA count is:\", count)"
   ]
  },
  {
   "cell_type": "code",
   "execution_count": null,
   "id": "c2725d0e",
   "metadata": {},
   "outputs": [],
   "source": []
  },
  {
   "cell_type": "code",
   "execution_count": null,
   "id": "cf8f761e",
   "metadata": {},
   "outputs": [],
   "source": []
  },
  {
   "cell_type": "code",
   "execution_count": null,
   "id": "39f2d1e5",
   "metadata": {},
   "outputs": [],
   "source": []
  },
  {
   "cell_type": "markdown",
   "id": "0045d16e",
   "metadata": {
    "ExecuteTime": {
     "end_time": "2022-06-24T04:08:21.536780Z",
     "start_time": "2022-06-24T04:08:21.532034Z"
    }
   },
   "source": [
    "# Leap Year\n",
    "\n",
    "Write a program that works out whether if a given year is a leap year. A normal year has 365 days, leap years have 366, with an extra day in February. The reason why we have leap years is really fascinating, this video does it more justice:\n",
    "\n",
    "This is how you work out whether if a particular year is a leap year.\n",
    "\n",
    "on every year that is evenly divisible by 4 \n",
    "\n",
    "except every year that is evenly divisible by 100 \n",
    "\n",
    "unless the year is also evenly divisible by 400\n",
    "\n",
    "e.g. The year 2000:\n",
    "\n",
    "2000 ÷ 4 = 500 (Leap)\n",
    "\n",
    "2000 ÷ 100 = 20 (Not Leap)\n",
    "\n",
    "2000 ÷ 400 = 5 (Leap!)\n",
    "\n",
    "So the year 2000 is a leap year.\n",
    "\n",
    "But the year 2100 is not a leap year because:\n",
    "\n",
    "2100 ÷ 4 = 525 (Leap)\n",
    "\n",
    "2100 ÷ 100 = 21 (Not Leap)\n",
    "\n",
    "2100 ÷ 400 = 5.25 (Not Leap)"
   ]
  },
  {
   "cell_type": "code",
   "execution_count": 10,
   "id": "1d06f13d",
   "metadata": {
    "ExecuteTime": {
     "end_time": "2022-06-25T15:51:16.852979Z",
     "start_time": "2022-06-25T15:51:07.288279Z"
    },
    "scrolled": true
   },
   "outputs": [
    {
     "name": "stdout",
     "output_type": "stream",
     "text": [
      "Which year do you want to check? 800\n",
      "Leap year.\n"
     ]
    }
   ],
   "source": [
    "year = int(input(\"Which year do you want to check? \"))\n",
    "\n",
    "if year % 4 == 0:\n",
    "    if year % 100 == 0:\n",
    "        if year % 400 == 0:\n",
    "              print(\"Leap year.\")\n",
    "        else:\n",
    "              print(\"Not leap year.\")\n",
    "    else:\n",
    "        print(\"Leap year.\")\n",
    "else:\n",
    "    print(\"Not leap year.\")"
   ]
  },
  {
   "cell_type": "code",
   "execution_count": null,
   "id": "ef4b3c24",
   "metadata": {},
   "outputs": [],
   "source": []
  },
  {
   "cell_type": "code",
   "execution_count": null,
   "id": "d57d8b95",
   "metadata": {},
   "outputs": [],
   "source": []
  },
  {
   "cell_type": "code",
   "execution_count": null,
   "id": "b654027d",
   "metadata": {},
   "outputs": [],
   "source": []
  },
  {
   "cell_type": "code",
   "execution_count": null,
   "id": "7366ffb5",
   "metadata": {},
   "outputs": [],
   "source": []
  },
  {
   "cell_type": "markdown",
   "id": "7cc3cc69",
   "metadata": {},
   "source": [
    "# Pizza\n",
    "\n",
    "Congratulations, you've got a job at Python Pizza. Your first job is to build an automatic pizza order program.\n",
    "\n",
    "Based on a user's order, work out their final bill.\n",
    "\n",
    "Small Pizza: $15\n",
    "\n",
    "Medium Pizza: $20\n",
    "\n",
    "Large Pizza: $25\n",
    "\n",
    "Pepperoni for Small Pizza: +$2\n",
    "\n",
    "Pepperoni for Medium or Large Pizza: +$3\n",
    "\n",
    "Extra cheese for any size pizza: + $1"
   ]
  },
  {
   "cell_type": "code",
   "execution_count": null,
   "id": "d0b97f00",
   "metadata": {},
   "outputs": [],
   "source": []
  },
  {
   "cell_type": "markdown",
   "id": "68030207",
   "metadata": {},
   "source": [
    "# Love Calculator"
   ]
  },
  {
   "cell_type": "markdown",
   "id": "7b1fd9c2",
   "metadata": {},
   "source": [
    "You are going to write a program that tests the compatibility between two people.\n",
    "\n",
    "To work out the love score between two people:\n",
    "\n",
    "Take both people's names and check for the number of times the letters in the word TRUE occurs. \n",
    "\n",
    "Then check for the number of times the letters in the word LOVE occurs. \n",
    "\n",
    "Then combine these numbers to make a 2 digit number.\n",
    "\n",
    "For Love Scores less than 10 or greater than 90, the message should be:\n",
    "\n",
    "\"Your score is x, you go together like coke and mentos.\"\n",
    "For Love Scores between 40 and 50, the message should be:\n",
    "\n",
    "\"Your score is y, you are alright together.\"\n",
    "Otherwise, the message will just be their score. e.g.:\n",
    "\n",
    "\"Your score is z.\""
   ]
  },
  {
   "cell_type": "code",
   "execution_count": null,
   "id": "58e37da3",
   "metadata": {},
   "outputs": [],
   "source": [
    "print(\"Welcome to the Love Calculator!\")\n",
    "name1 = input(\"What is your name? \\n\")\n",
    "name2 = input(\"What is their name? \\n\")\n",
    "\n",
    "# write your code below"
   ]
  },
  {
   "cell_type": "markdown",
   "id": "d3e2eadd",
   "metadata": {
    "ExecuteTime": {
     "end_time": "2022-06-24T16:20:03.267987Z",
     "start_time": "2022-06-24T16:20:03.264651Z"
    }
   },
   "source": [
    "# Head or tail\n",
    "You are going to write a virtual coin toss program. It will randomly tell the user \"Heads\" or \"Tails\".\n",
    "\n",
    "There are many ways of doing this. But to practice what we learnt in the last lesson, you should generate a random number, either 0 or 1. Then use that number to print out Heads or Tails.\n",
    "\n",
    "e.g. 1 means Heads 0 means Tails\n",
    "\n",
    "Example Output\n",
    "\n",
    "Heads\n",
    "\n",
    "or\n",
    "\n",
    "Tails"
   ]
  },
  {
   "cell_type": "code",
   "execution_count": null,
   "id": "1bc046ad",
   "metadata": {},
   "outputs": [],
   "source": [
    "import random\n",
    "sample = random.randint(0,1)\n",
    "if sample == 1:\n",
    "    msg = 'Heads' \n",
    "else:\n",
    "    msg = 'Tails'\n",
    "\n",
    "print(msg)"
   ]
  },
  {
   "cell_type": "code",
   "execution_count": null,
   "id": "665a855a",
   "metadata": {},
   "outputs": [],
   "source": []
  },
  {
   "cell_type": "code",
   "execution_count": null,
   "id": "d33abfc4",
   "metadata": {},
   "outputs": [],
   "source": []
  },
  {
   "cell_type": "code",
   "execution_count": null,
   "id": "ba567da4",
   "metadata": {},
   "outputs": [],
   "source": []
  },
  {
   "cell_type": "markdown",
   "id": "24c0150b",
   "metadata": {},
   "source": [
    "# Simple list problem\n",
    "\n",
    "You have given a Python list. Write a program to find value 20 in the list, and if it is present, replace it with 200. Only update the first occurrence of an item.\n",
    "\n",
    "```\n",
    "Given list : [5, 10, 15, 20, 25, 50, 20]\n",
    "\n",
    "Expected Output :\n",
    "[5, 10, 15, 200, 25, 50, 20]\n",
    "\n",
    "\n",
    "```"
   ]
  },
  {
   "cell_type": "code",
   "execution_count": 1,
   "id": "ff610f92",
   "metadata": {
    "ExecuteTime": {
     "end_time": "2022-06-26T01:45:28.019404Z",
     "start_time": "2022-06-26T01:45:28.011468Z"
    }
   },
   "outputs": [
    {
     "name": "stdout",
     "output_type": "stream",
     "text": [
      "[5, 10, 15, 200, 25, 50, 20]\n"
     ]
    }
   ],
   "source": [
    "list1 = [5, 10, 15, 20, 25, 50, 20]\n",
    "\n",
    "# get the first occurrence index\n",
    "index = list1.index(20)\n",
    "\n",
    "# update item present at location\n",
    "list1[index] = 200\n",
    "print(list1)"
   ]
  },
  {
   "cell_type": "code",
   "execution_count": null,
   "id": "b33e23c3",
   "metadata": {},
   "outputs": [],
   "source": []
  },
  {
   "cell_type": "code",
   "execution_count": null,
   "id": "557840d0",
   "metadata": {},
   "outputs": [],
   "source": []
  }
 ],
 "metadata": {
  "kernelspec": {
   "display_name": "python_ml",
   "language": "python",
   "name": "python_ml"
  },
  "language_info": {
   "codemirror_mode": {
    "name": "ipython",
    "version": 3
   },
   "file_extension": ".py",
   "mimetype": "text/x-python",
   "name": "python",
   "nbconvert_exporter": "python",
   "pygments_lexer": "ipython3",
   "version": "3.9.0"
  },
  "toc": {
   "base_numbering": 1,
   "nav_menu": {},
   "number_sections": true,
   "sideBar": true,
   "skip_h1_title": false,
   "title_cell": "Table of Contents",
   "title_sidebar": "Contents",
   "toc_cell": false,
   "toc_position": {
    "height": "calc(100% - 180px)",
    "left": "10px",
    "top": "150px",
    "width": "320px"
   },
   "toc_section_display": true,
   "toc_window_display": true
  }
 },
 "nbformat": 4,
 "nbformat_minor": 5
}
