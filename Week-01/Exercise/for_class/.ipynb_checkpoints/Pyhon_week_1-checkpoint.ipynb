{
 "cells": [
  {
   "cell_type": "code",
   "execution_count": null,
   "id": "7b7f52a8",
   "metadata": {},
   "outputs": [],
   "source": [
    "print()"
   ]
  },
  {
   "cell_type": "code",
   "execution_count": null,
   "id": "7d72cf58",
   "metadata": {},
   "outputs": [],
   "source": []
  },
  {
   "cell_type": "markdown",
   "id": "4d91e0da",
   "metadata": {},
   "source": [
    "##  print function"
   ]
  },
  {
   "cell_type": "code",
   "execution_count": 3,
   "id": "873ae300",
   "metadata": {
    "ExecuteTime": {
     "end_time": "2022-06-25T03:18:58.751431Z",
     "start_time": "2022-06-25T03:18:58.749161Z"
    }
   },
   "outputs": [
    {
     "name": "stdout",
     "output_type": "stream",
     "text": [
      "Hello World\n"
     ]
    }
   ],
   "source": [
    "print(\"Hello World\")"
   ]
  },
  {
   "cell_type": "code",
   "execution_count": 25,
   "id": "400dce62",
   "metadata": {
    "ExecuteTime": {
     "end_time": "2022-06-24T08:08:34.073829Z",
     "start_time": "2022-06-24T08:08:34.071741Z"
    }
   },
   "outputs": [],
   "source": [
    "# --> comment\n",
    "\n",
    "#"
   ]
  },
  {
   "cell_type": "code",
   "execution_count": 10,
   "id": "25339504",
   "metadata": {
    "ExecuteTime": {
     "end_time": "2022-06-24T07:29:14.993111Z",
     "start_time": "2022-06-24T07:29:14.989780Z"
    }
   },
   "outputs": [
    {
     "ename": "SyntaxError",
     "evalue": "EOL while scanning string literal (798759700.py, line 2)",
     "output_type": "error",
     "traceback": [
      "\u001b[0;36m  File \u001b[0;32m\"/tmp/ipykernel_17636/798759700.py\"\u001b[0;36m, line \u001b[0;32m2\u001b[0m\n\u001b[0;31m    print('a\u001b[0m\n\u001b[0m            ^\u001b[0m\n\u001b[0;31mSyntaxError\u001b[0m\u001b[0;31m:\u001b[0m EOL while scanning string literal\n"
     ]
    }
   ],
   "source": [
    "## will occur the Syntax Error \n",
    "print('a"
   ]
  },
  {
   "cell_type": "markdown",
   "id": "6c11ab55",
   "metadata": {},
   "source": [
    "## String\n",
    "\n",
    "Strings are sequences of character data. The string type in Python is called str.\n",
    "\n",
    "\n",
    "String literals may be delimited using either single or double quotes. All the characters between the opening delimiter and matching closing delimiter are part of the string:"
   ]
  },
  {
   "cell_type": "code",
   "execution_count": null,
   "id": "e61ef069",
   "metadata": {},
   "outputs": [],
   "source": [
    "string, integer "
   ]
  },
  {
   "cell_type": "code",
   "execution_count": 4,
   "id": "e8ac507e",
   "metadata": {
    "ExecuteTime": {
     "end_time": "2022-06-25T03:20:14.189964Z",
     "start_time": "2022-06-25T03:20:14.183246Z"
    }
   },
   "outputs": [
    {
     "data": {
      "text/plain": [
       "int"
      ]
     },
     "execution_count": 4,
     "metadata": {},
     "output_type": "execute_result"
    }
   ],
   "source": [
    "type(12)"
   ]
  },
  {
   "cell_type": "code",
   "execution_count": 5,
   "id": "1b88bcc8",
   "metadata": {
    "ExecuteTime": {
     "end_time": "2022-06-25T03:21:08.590998Z",
     "start_time": "2022-06-25T03:21:08.585850Z"
    }
   },
   "outputs": [
    {
     "name": "stdout",
     "output_type": "stream",
     "text": [
      "I am a string.\n",
      "<class 'str'>\n",
      "I am too.\n"
     ]
    },
    {
     "data": {
      "text/plain": [
       "str"
      ]
     },
     "execution_count": 5,
     "metadata": {},
     "output_type": "execute_result"
    }
   ],
   "source": [
    "print(\"I am a string.\")\n",
    "\n",
    "print(type(\"I am a string.\"))\n",
    "\n",
    "print('I am too.')\n",
    "\n",
    "type('I am too.')"
   ]
  },
  {
   "cell_type": "markdown",
   "id": "ebd462e1",
   "metadata": {
    "ExecuteTime": {
     "end_time": "2022-06-24T07:45:18.279120Z",
     "start_time": "2022-06-24T07:45:18.276139Z"
    }
   },
   "source": [
    "A string in Python can contain as many characters as you wish. The only limit is your machine’s memory resources. \n",
    "A string can also be empty:"
   ]
  },
  {
   "cell_type": "code",
   "execution_count": null,
   "id": "f7b38434",
   "metadata": {},
   "outputs": [],
   "source": [
    "\"how are you\""
   ]
  },
  {
   "cell_type": "code",
   "execution_count": null,
   "id": "8712ae34",
   "metadata": {},
   "outputs": [],
   "source": [
    "'how are'"
   ]
  },
  {
   "cell_type": "code",
   "execution_count": 8,
   "id": "d75ba07f",
   "metadata": {
    "ExecuteTime": {
     "end_time": "2022-06-24T07:28:46.492700Z",
     "start_time": "2022-06-24T07:28:46.484913Z"
    }
   },
   "outputs": [
    {
     "ename": "SyntaxError",
     "evalue": "invalid syntax (2225295238.py, line 2)",
     "output_type": "error",
     "traceback": [
      "\u001b[0;36m  File \u001b[0;32m\"/tmp/ipykernel_17636/2225295238.py\"\u001b[0;36m, line \u001b[0;32m2\u001b[0m\n\u001b[0;31m    print('This string contains a single quote (') character.')\u001b[0m\n\u001b[0m                                                           ^\u001b[0m\n\u001b[0;31mSyntaxError\u001b[0m\u001b[0;31m:\u001b[0m invalid syntax\n"
     ]
    }
   ],
   "source": [
    "## will occur the error\n",
    "print('This string contains a single quote (') character.')"
   ]
  },
  {
   "cell_type": "code",
   "execution_count": 9,
   "id": "8d937851",
   "metadata": {
    "ExecuteTime": {
     "end_time": "2022-06-24T07:29:00.221110Z",
     "start_time": "2022-06-24T07:29:00.218626Z"
    }
   },
   "outputs": [
    {
     "name": "stdout",
     "output_type": "stream",
     "text": [
      "This string contains a single quote (') character.\n",
      "This string contains a double quote (\") character.\n"
     ]
    }
   ],
   "source": [
    "print(\"This string contains a single quote (') character.\")\n",
    "\n",
    "print('This string contains a double quote (\") character.')"
   ]
  },
  {
   "cell_type": "code",
   "execution_count": null,
   "id": "2cbd6329",
   "metadata": {},
   "outputs": [],
   "source": [
    "# next line\n",
    "print(\"Hello World \\n Hello World\")"
   ]
  },
  {
   "cell_type": "code",
   "execution_count": null,
   "id": "91415123",
   "metadata": {},
   "outputs": [],
   "source": [
    "print('hello world \\n')\n",
    "print('hello world')\n"
   ]
  },
  {
   "cell_type": "markdown",
   "id": "68d0dccb",
   "metadata": {},
   "source": [
    "###  Escape Sequences in Strings"
   ]
  },
  {
   "cell_type": "code",
   "execution_count": null,
   "id": "e2d2035b",
   "metadata": {},
   "outputs": [],
   "source": [
    "'string '"
   ]
  },
  {
   "cell_type": "code",
   "execution_count": 9,
   "id": "1fff6c68",
   "metadata": {
    "ExecuteTime": {
     "end_time": "2022-06-25T03:23:01.319400Z",
     "start_time": "2022-06-25T03:23:01.316359Z"
    }
   },
   "outputs": [
    {
     "name": "stdout",
     "output_type": "stream",
     "text": [
      "This string contains a single quote (') character.\n",
      "This string contains a double quote (\") character.\n"
     ]
    }
   ],
   "source": [
    "print('This string contains a single quote (\\') character.')\n",
    "\n",
    "\n",
    "print(\"This string contains a double quote (\\\") character.\")"
   ]
  },
  {
   "cell_type": "markdown",
   "id": "2c25775f",
   "metadata": {},
   "source": [
    "### Triple-Quoted Strings"
   ]
  },
  {
   "cell_type": "code",
   "execution_count": 19,
   "id": "37b69955",
   "metadata": {
    "ExecuteTime": {
     "end_time": "2022-06-24T15:44:11.347100Z",
     "start_time": "2022-06-24T15:44:11.343872Z"
    }
   },
   "outputs": [
    {
     "name": "stdout",
     "output_type": "stream",
     "text": [
      "This string has a single (') and a double (\") quote.\n",
      "This is a\n",
      "string that spans\n",
      "across several lines\n"
     ]
    }
   ],
   "source": [
    "print('''This string has a single (') and a double (\") quote.''')\n",
    "\n",
    "print(\"\"\"This is a\n",
    "string that spans\n",
    "across several lines\"\"\")"
   ]
  },
  {
   "cell_type": "markdown",
   "id": "5af4a5c5",
   "metadata": {},
   "source": [
    "## Python Input Function\n",
    "\n",
    "```\n",
    "input(prompt)\n",
    "\n",
    "```\n",
    "Python allows for user input."
   ]
  },
  {
   "cell_type": "code",
   "execution_count": 10,
   "id": "8bee552c",
   "metadata": {
    "ExecuteTime": {
     "end_time": "2022-06-25T03:35:42.346401Z",
     "start_time": "2022-06-25T03:35:37.070326Z"
    }
   },
   "outputs": [
    {
     "name": "stdout",
     "output_type": "stream",
     "text": [
      "Enter your name:swan aung\n"
     ]
    },
    {
     "data": {
      "text/plain": [
       "'swan aung'"
      ]
     },
     "execution_count": 10,
     "metadata": {},
     "output_type": "execute_result"
    }
   ],
   "source": [
    "input('Enter your name:')"
   ]
  },
  {
   "cell_type": "code",
   "execution_count": 11,
   "id": "31067c51",
   "metadata": {
    "ExecuteTime": {
     "end_time": "2022-06-25T03:36:36.244284Z",
     "start_time": "2022-06-25T03:36:36.240666Z"
    }
   },
   "outputs": [
    {
     "data": {
      "text/plain": [
       "8"
      ]
     },
     "execution_count": 11,
     "metadata": {},
     "output_type": "execute_result"
    }
   ],
   "source": [
    "len('swanaung')"
   ]
  },
  {
   "cell_type": "code",
   "execution_count": null,
   "id": "70837c45",
   "metadata": {},
   "outputs": [],
   "source": [
    "len('')"
   ]
  },
  {
   "cell_type": "code",
   "execution_count": 2,
   "id": "7b45c666",
   "metadata": {
    "ExecuteTime": {
     "end_time": "2022-06-24T08:14:21.089911Z",
     "start_time": "2022-06-24T08:14:18.185009Z"
    }
   },
   "outputs": [
    {
     "name": "stdout",
     "output_type": "stream",
     "text": [
      "Enter your name:swan aung\n"
     ]
    },
    {
     "data": {
      "text/plain": [
       "'swan aung'"
      ]
     },
     "execution_count": 2,
     "metadata": {},
     "output_type": "execute_result"
    }
   ],
   "source": [
    "input('Enter your name:')"
   ]
  },
  {
   "cell_type": "code",
   "execution_count": null,
   "id": "979eed4e",
   "metadata": {},
   "outputs": [],
   "source": []
  },
  {
   "cell_type": "markdown",
   "id": "2fac3a1d",
   "metadata": {},
   "source": [
    "## Variable Names"
   ]
  },
  {
   "cell_type": "code",
   "execution_count": 12,
   "id": "9a6b1251",
   "metadata": {
    "ExecuteTime": {
     "end_time": "2022-06-25T03:42:16.613352Z",
     "start_time": "2022-06-25T03:42:16.610901Z"
    }
   },
   "outputs": [
    {
     "name": "stdout",
     "output_type": "stream",
     "text": [
      "Bob\n"
     ]
    }
   ],
   "source": [
    "name = \"Bob\"\n",
    "print(name)"
   ]
  },
  {
   "cell_type": "code",
   "execution_count": 13,
   "id": "eab52460",
   "metadata": {
    "ExecuteTime": {
     "end_time": "2022-06-25T03:42:33.598760Z",
     "start_time": "2022-06-25T03:42:33.593858Z"
    }
   },
   "outputs": [],
   "source": [
    "random_number = 90"
   ]
  },
  {
   "cell_type": "code",
   "execution_count": 14,
   "id": "b3918eb6",
   "metadata": {
    "ExecuteTime": {
     "end_time": "2022-06-25T03:42:54.541622Z",
     "start_time": "2022-06-25T03:42:51.246592Z"
    },
    "scrolled": true
   },
   "outputs": [
    {
     "name": "stdout",
     "output_type": "stream",
     "text": [
      "Enter your name:swan aung\n",
      "Hello, swan aung\n"
     ]
    }
   ],
   "source": [
    "name = input('Enter your name:')\n",
    "print('Hello, ' + name)"
   ]
  },
  {
   "cell_type": "code",
   "execution_count": 15,
   "id": "95f0d190",
   "metadata": {
    "ExecuteTime": {
     "end_time": "2022-06-25T03:42:59.588599Z",
     "start_time": "2022-06-25T03:42:59.585549Z"
    }
   },
   "outputs": [
    {
     "data": {
      "text/plain": [
       "'swan aung'"
      ]
     },
     "execution_count": 15,
     "metadata": {},
     "output_type": "execute_result"
    }
   ],
   "source": [
    "name"
   ]
  },
  {
   "cell_type": "code",
   "execution_count": null,
   "id": "f9a3ebb3",
   "metadata": {},
   "outputs": [],
   "source": []
  },
  {
   "cell_type": "code",
   "execution_count": 9,
   "id": "7361fd5f",
   "metadata": {
    "ExecuteTime": {
     "end_time": "2022-06-24T10:21:42.903801Z",
     "start_time": "2022-06-24T10:21:41.420209Z"
    }
   },
   "outputs": [
    {
     "name": "stdout",
     "output_type": "stream",
     "text": [
      "a:s\n"
     ]
    },
    {
     "data": {
      "text/plain": [
       "'s'"
      ]
     },
     "execution_count": 9,
     "metadata": {},
     "output_type": "execute_result"
    }
   ],
   "source": [
    "input(\"a:\")"
   ]
  },
  {
   "cell_type": "markdown",
   "id": "da25ffe0",
   "metadata": {},
   "source": [
    "<font color=\"red\">But this one is not, because a variable name can’t begin with a digit: </font>"
   ]
  },
  {
   "cell_type": "code",
   "execution_count": 8,
   "id": "bcec3875",
   "metadata": {
    "ExecuteTime": {
     "end_time": "2022-06-22T03:56:28.250298Z",
     "start_time": "2022-06-22T03:56:28.244126Z"
    },
    "scrolled": true
   },
   "outputs": [
    {
     "ename": "SyntaxError",
     "evalue": "invalid token (4226384492.py, line 1)",
     "output_type": "error",
     "traceback": [
      "\u001b[0;36m  File \u001b[0;32m\"/tmp/ipykernel_6231/4226384492.py\"\u001b[0;36m, line \u001b[0;32m1\u001b[0m\n\u001b[0;31m    1099_filed = False\u001b[0m\n\u001b[0m        ^\u001b[0m\n\u001b[0;31mSyntaxError\u001b[0m\u001b[0;31m:\u001b[0m invalid token\n"
     ]
    }
   ],
   "source": [
    "## name is invalid\n",
    "1099_filed = False"
   ]
  },
  {
   "cell_type": "markdown",
   "id": "364c1b83",
   "metadata": {},
   "source": [
    "## String manipulation"
   ]
  },
  {
   "cell_type": "markdown",
   "id": "cb835ac5",
   "metadata": {
    "ExecuteTime": {
     "end_time": "2022-06-24T15:23:32.557376Z",
     "start_time": "2022-06-24T15:23:32.554484Z"
    }
   },
   "source": [
    "### The + Operator"
   ]
  },
  {
   "cell_type": "code",
   "execution_count": null,
   "id": "3ef5f5b5",
   "metadata": {},
   "outputs": [],
   "source": [
    "The + operator concatenates strings. It returns a string consisting of the operands joined together,"
   ]
  },
  {
   "cell_type": "code",
   "execution_count": 17,
   "id": "a95f861c",
   "metadata": {
    "ExecuteTime": {
     "end_time": "2022-06-25T03:50:22.028298Z",
     "start_time": "2022-06-25T03:50:22.025051Z"
    }
   },
   "outputs": [
    {
     "name": "stdout",
     "output_type": "stream",
     "text": [
      "Howare\n",
      "How are you\n"
     ]
    }
   ],
   "source": [
    "s = 'How'\n",
    "t = 'are'\n",
    "u = 'you'\n",
    "\n",
    "print(s + t)\n",
    "\n",
    "print(s +\" \"+ t+ \" \" + u)"
   ]
  },
  {
   "cell_type": "code",
   "execution_count": 18,
   "id": "22ca9a22",
   "metadata": {
    "ExecuteTime": {
     "end_time": "2022-06-25T03:50:29.713384Z",
     "start_time": "2022-06-25T03:50:29.710879Z"
    }
   },
   "outputs": [
    {
     "name": "stdout",
     "output_type": "stream",
     "text": [
      "Go team!!!\n"
     ]
    }
   ],
   "source": [
    "print('Go team' + '!!!')"
   ]
  },
  {
   "cell_type": "markdown",
   "id": "48bf4b5b",
   "metadata": {},
   "source": [
    "### The * Operator\n",
    "The * operator creates multiple copies of a string. If s is a string and n is an integer, either of the following expressions returns a string consisting of n concatenated copies of s:"
   ]
  },
  {
   "cell_type": "code",
   "execution_count": 19,
   "id": "7c8426f5",
   "metadata": {
    "ExecuteTime": {
     "end_time": "2022-06-25T03:51:00.272613Z",
     "start_time": "2022-06-25T03:51:00.269144Z"
    }
   },
   "outputs": [
    {
     "name": "stdout",
     "output_type": "stream",
     "text": [
      "foo.foo.foo.foo.\n"
     ]
    }
   ],
   "source": [
    "s = 'foo.'\n",
    "\n",
    "print(s * 4)"
   ]
  },
  {
   "cell_type": "code",
   "execution_count": 20,
   "id": "92dc929a",
   "metadata": {
    "ExecuteTime": {
     "end_time": "2022-06-25T03:51:08.805771Z",
     "start_time": "2022-06-25T03:51:08.802208Z"
    }
   },
   "outputs": [
    {
     "data": {
      "text/plain": [
       "''"
      ]
     },
     "execution_count": 20,
     "metadata": {},
     "output_type": "execute_result"
    }
   ],
   "source": [
    "'foo' * -8"
   ]
  },
  {
   "cell_type": "code",
   "execution_count": 3,
   "id": "9599cc2f",
   "metadata": {
    "ExecuteTime": {
     "end_time": "2022-06-24T08:14:39.040132Z",
     "start_time": "2022-06-24T08:14:39.037255Z"
    }
   },
   "outputs": [
    {
     "data": {
      "text/plain": [
       "6"
      ]
     },
     "execution_count": 3,
     "metadata": {},
     "output_type": "execute_result"
    }
   ],
   "source": [
    "# Length of a string\n",
    "s = 'Yangon'\n",
    "len(s)"
   ]
  },
  {
   "cell_type": "markdown",
   "id": "ddbdf86a",
   "metadata": {
    "ExecuteTime": {
     "end_time": "2022-06-24T15:35:26.110986Z",
     "start_time": "2022-06-24T15:35:26.108039Z"
    }
   },
   "source": [
    "###  String Indexing\n",
    "In Python, strings are ordered sequences of character data, and thus can be indexed in this way. Individual characters in a string can be accessed by specifying the string name followed by a number in square brackets ([])."
   ]
  },
  {
   "cell_type": "code",
   "execution_count": 21,
   "id": "29f4f4f1",
   "metadata": {
    "ExecuteTime": {
     "end_time": "2022-06-25T03:51:36.827026Z",
     "start_time": "2022-06-25T03:51:36.824722Z"
    }
   },
   "outputs": [
    {
     "name": "stdout",
     "output_type": "stream",
     "text": [
      "f\n"
     ]
    }
   ],
   "source": [
    "s = 'foobar'\n",
    "print(s[0])"
   ]
  },
  {
   "cell_type": "code",
   "execution_count": null,
   "id": "4467d051",
   "metadata": {},
   "outputs": [],
   "source": [
    "s[0]"
   ]
  },
  {
   "cell_type": "code",
   "execution_count": 25,
   "id": "6d906119",
   "metadata": {
    "ExecuteTime": {
     "end_time": "2022-06-25T03:53:51.793535Z",
     "start_time": "2022-06-25T03:53:51.790034Z"
    }
   },
   "outputs": [
    {
     "data": {
      "text/plain": [
       "'r'"
      ]
     },
     "execution_count": 25,
     "metadata": {},
     "output_type": "execute_result"
    }
   ],
   "source": [
    "s[-1]"
   ]
  },
  {
   "cell_type": "code",
   "execution_count": 23,
   "id": "9375b0e7",
   "metadata": {
    "ExecuteTime": {
     "end_time": "2022-06-25T03:52:28.477654Z",
     "start_time": "2022-06-25T03:52:28.474737Z"
    }
   },
   "outputs": [
    {
     "data": {
      "text/plain": [
       "'r'"
      ]
     },
     "execution_count": 23,
     "metadata": {},
     "output_type": "execute_result"
    }
   ],
   "source": [
    "s[-1]"
   ]
  },
  {
   "cell_type": "code",
   "execution_count": 24,
   "id": "6f0c20ae",
   "metadata": {
    "ExecuteTime": {
     "end_time": "2022-06-25T03:52:39.777609Z",
     "start_time": "2022-06-25T03:52:39.712454Z"
    }
   },
   "outputs": [
    {
     "ename": "IndexError",
     "evalue": "string index out of range",
     "output_type": "error",
     "traceback": [
      "\u001b[0;31m---------------------------------------------------------------------------\u001b[0m",
      "\u001b[0;31mIndexError\u001b[0m                                Traceback (most recent call last)",
      "\u001b[0;32m/tmp/ipykernel_47411/2303543060.py\u001b[0m in \u001b[0;36m<module>\u001b[0;34m\u001b[0m\n\u001b[0;32m----> 1\u001b[0;31m \u001b[0ms\u001b[0m\u001b[0;34m[\u001b[0m\u001b[0;36m9\u001b[0m\u001b[0;34m]\u001b[0m\u001b[0;34m\u001b[0m\u001b[0;34m\u001b[0m\u001b[0m\n\u001b[0m",
      "\u001b[0;31mIndexError\u001b[0m: string index out of range"
     ]
    }
   ],
   "source": [
    "s[9]"
   ]
  },
  {
   "cell_type": "code",
   "execution_count": 22,
   "id": "a2763f1f",
   "metadata": {
    "ExecuteTime": {
     "end_time": "2022-06-25T03:51:48.872327Z",
     "start_time": "2022-06-25T03:51:48.867074Z"
    }
   },
   "outputs": [
    {
     "data": {
      "text/plain": [
       "'o'"
      ]
     },
     "execution_count": 22,
     "metadata": {},
     "output_type": "execute_result"
    }
   ],
   "source": [
    "s[2]"
   ]
  },
  {
   "cell_type": "markdown",
   "id": "b641950a",
   "metadata": {},
   "source": [
    "String indexing in Python is **zero-based**: the first character in the string has index 0, the next has index 1, and so on. The index of the last character will be the length of the string minus one."
   ]
  },
  {
   "cell_type": "markdown",
   "id": "aaea73b0",
   "metadata": {
    "ExecuteTime": {
     "end_time": "2022-06-24T15:35:45.529531Z",
     "start_time": "2022-06-24T15:35:45.527058Z"
    }
   },
   "source": [
    "<img src=\"resources/19.png\" width=500></img>"
   ]
  },
  {
   "cell_type": "code",
   "execution_count": 6,
   "id": "d8270ab2",
   "metadata": {
    "ExecuteTime": {
     "end_time": "2022-06-24T15:36:46.648834Z",
     "start_time": "2022-06-24T15:36:46.645988Z"
    }
   },
   "outputs": [
    {
     "name": "stdout",
     "output_type": "stream",
     "text": [
      "o\n",
      "6\n",
      "r\n"
     ]
    }
   ],
   "source": [
    "print(s[1])\n",
    "\n",
    "print(len(s))\n",
    "\n",
    "print(s[len(s)-1])"
   ]
  },
  {
   "cell_type": "code",
   "execution_count": null,
   "id": "cd38971e",
   "metadata": {},
   "outputs": [],
   "source": [
    "s[6]"
   ]
  },
  {
   "cell_type": "code",
   "execution_count": null,
   "id": "8b0e1353",
   "metadata": {},
   "outputs": [],
   "source": []
  },
  {
   "cell_type": "markdown",
   "id": "3f9e15ac",
   "metadata": {},
   "source": [
    "<img src=\"resources/20.png\" width=500></img>"
   ]
  },
  {
   "cell_type": "markdown",
   "id": "e87062b1",
   "metadata": {},
   "source": [
    "### String Slicing"
   ]
  },
  {
   "cell_type": "code",
   "execution_count": 27,
   "id": "5211a4d5",
   "metadata": {
    "ExecuteTime": {
     "end_time": "2022-06-25T04:20:00.183476Z",
     "start_time": "2022-06-25T04:20:00.181696Z"
    }
   },
   "outputs": [],
   "source": [
    "name = \"swanaung\""
   ]
  },
  {
   "cell_type": "code",
   "execution_count": 28,
   "id": "1091e4ea",
   "metadata": {
    "ExecuteTime": {
     "end_time": "2022-06-25T04:20:04.810378Z",
     "start_time": "2022-06-25T04:20:04.807990Z"
    }
   },
   "outputs": [
    {
     "data": {
      "text/plain": [
       "'s'"
      ]
     },
     "execution_count": 28,
     "metadata": {},
     "output_type": "execute_result"
    }
   ],
   "source": [
    "name[0]"
   ]
  },
  {
   "cell_type": "code",
   "execution_count": 29,
   "id": "d986d888",
   "metadata": {
    "ExecuteTime": {
     "end_time": "2022-06-25T04:20:09.200306Z",
     "start_time": "2022-06-25T04:20:09.197781Z"
    }
   },
   "outputs": [
    {
     "data": {
      "text/plain": [
       "'g'"
      ]
     },
     "execution_count": 29,
     "metadata": {},
     "output_type": "execute_result"
    }
   ],
   "source": [
    "name[-1]"
   ]
  },
  {
   "cell_type": "code",
   "execution_count": 30,
   "id": "b815368f",
   "metadata": {
    "ExecuteTime": {
     "end_time": "2022-06-25T04:20:18.371354Z",
     "start_time": "2022-06-25T04:20:18.368434Z"
    }
   },
   "outputs": [
    {
     "data": {
      "text/plain": [
       "'wana'"
      ]
     },
     "execution_count": 30,
     "metadata": {},
     "output_type": "execute_result"
    }
   ],
   "source": [
    "name[1:5]"
   ]
  },
  {
   "cell_type": "code",
   "execution_count": 7,
   "id": "d1336730",
   "metadata": {
    "ExecuteTime": {
     "end_time": "2022-06-24T15:37:27.062744Z",
     "start_time": "2022-06-24T15:37:27.060160Z"
    }
   },
   "outputs": [
    {
     "name": "stdout",
     "output_type": "stream",
     "text": [
      "oo\n"
     ]
    }
   ],
   "source": [
    "print(s[1:3])"
   ]
  },
  {
   "cell_type": "markdown",
   "id": "7a6d8ce3",
   "metadata": {
    "ExecuteTime": {
     "end_time": "2022-06-24T08:16:37.305043Z",
     "start_time": "2022-06-24T08:16:37.302092Z"
    }
   },
   "source": [
    "**Remember**: String indices are zero-based. The first character in a string has index 0. This applies to both standard indexing and slicing.\n"
   ]
  },
  {
   "cell_type": "code",
   "execution_count": 31,
   "id": "00ed16c8",
   "metadata": {
    "ExecuteTime": {
     "end_time": "2022-06-25T04:20:51.179676Z",
     "start_time": "2022-06-25T04:20:51.172519Z"
    }
   },
   "outputs": [
    {
     "name": "stdout",
     "output_type": "stream",
     "text": [
      "swanaung\n"
     ]
    }
   ],
   "source": [
    "\n",
    "\n",
    "print(name[:4] + name[4:])"
   ]
  },
  {
   "cell_type": "code",
   "execution_count": 33,
   "id": "af4f32c9",
   "metadata": {
    "ExecuteTime": {
     "end_time": "2022-06-25T04:21:46.740362Z",
     "start_time": "2022-06-25T04:21:46.737575Z"
    }
   },
   "outputs": [
    {
     "data": {
      "text/plain": [
       "'swanaung'"
      ]
     },
     "execution_count": 33,
     "metadata": {},
     "output_type": "execute_result"
    }
   ],
   "source": [
    "name"
   ]
  },
  {
   "cell_type": "code",
   "execution_count": 32,
   "id": "af47877b",
   "metadata": {
    "ExecuteTime": {
     "end_time": "2022-06-25T04:21:40.013686Z",
     "start_time": "2022-06-25T04:21:40.010715Z"
    }
   },
   "outputs": [
    {
     "data": {
      "text/plain": [
       "'swan'"
      ]
     },
     "execution_count": 32,
     "metadata": {},
     "output_type": "execute_result"
    }
   ],
   "source": [
    "name[:4]"
   ]
  },
  {
   "cell_type": "code",
   "execution_count": 34,
   "id": "9d485526",
   "metadata": {
    "ExecuteTime": {
     "end_time": "2022-06-25T04:22:15.221336Z",
     "start_time": "2022-06-25T04:22:15.217049Z"
    }
   },
   "outputs": [
    {
     "data": {
      "text/plain": [
       "'aung'"
      ]
     },
     "execution_count": 34,
     "metadata": {},
     "output_type": "execute_result"
    }
   ],
   "source": [
    "name[4:]"
   ]
  },
  {
   "cell_type": "markdown",
   "id": "4c564ce4",
   "metadata": {},
   "source": [
    "### Modifying Strings"
   ]
  },
  {
   "cell_type": "code",
   "execution_count": 10,
   "id": "102890bd",
   "metadata": {
    "ExecuteTime": {
     "end_time": "2022-06-24T15:39:22.348021Z",
     "start_time": "2022-06-24T15:39:22.346230Z"
    }
   },
   "outputs": [],
   "source": [
    "s = 'foobar'"
   ]
  },
  {
   "cell_type": "code",
   "execution_count": 13,
   "id": "ef570d05",
   "metadata": {
    "ExecuteTime": {
     "end_time": "2022-06-24T15:39:46.264390Z",
     "start_time": "2022-06-24T15:39:46.262245Z"
    }
   },
   "outputs": [
    {
     "name": "stdout",
     "output_type": "stream",
     "text": [
      "fooxar\n"
     ]
    }
   ],
   "source": [
    "s = s[:3] + 'x' + s[4:]\n",
    "print(s)"
   ]
  },
  {
   "cell_type": "markdown",
   "id": "1ad9ee95",
   "metadata": {},
   "source": [
    "## Python Basic Data Types"
   ]
  },
  {
   "cell_type": "markdown",
   "id": "64eb2ff8",
   "metadata": {},
   "source": [
    "String\n",
    "\n",
    "Integer\n",
    "\n",
    "float\n",
    "\n",
    "boolean\n"
   ]
  },
  {
   "cell_type": "code",
   "execution_count": 10,
   "id": "740797fc",
   "metadata": {
    "ExecuteTime": {
     "end_time": "2022-06-24T10:28:35.663321Z",
     "start_time": "2022-06-24T10:28:35.654347Z"
    }
   },
   "outputs": [
    {
     "name": "stdout",
     "output_type": "stream",
     "text": [
      "123345\n"
     ]
    }
   ],
   "source": [
    "#string\n",
    "print(\"123\"+\"345\")"
   ]
  },
  {
   "cell_type": "code",
   "execution_count": 36,
   "id": "0f49ae4e",
   "metadata": {
    "ExecuteTime": {
     "end_time": "2022-06-25T04:23:23.188135Z",
     "start_time": "2022-06-25T04:23:23.185451Z"
    }
   },
   "outputs": [
    {
     "data": {
      "text/plain": [
       "str"
      ]
     },
     "execution_count": 36,
     "metadata": {},
     "output_type": "execute_result"
    }
   ],
   "source": [
    "type(str(90))"
   ]
  },
  {
   "cell_type": "code",
   "execution_count": null,
   "id": "a5857cad",
   "metadata": {},
   "outputs": [],
   "source": [
    "str"
   ]
  },
  {
   "cell_type": "code",
   "execution_count": null,
   "id": "f306161a",
   "metadata": {},
   "outputs": [],
   "source": [
    "int"
   ]
  },
  {
   "cell_type": "code",
   "execution_count": 16,
   "id": "155358e1",
   "metadata": {
    "ExecuteTime": {
     "end_time": "2022-06-24T15:41:13.163661Z",
     "start_time": "2022-06-24T15:41:13.161527Z"
    }
   },
   "outputs": [
    {
     "name": "stdout",
     "output_type": "stream",
     "text": [
      "468\n"
     ]
    }
   ],
   "source": [
    "# integer\n",
    "print(123 + 345)"
   ]
  },
  {
   "cell_type": "code",
   "execution_count": 18,
   "id": "f4ea7a22",
   "metadata": {
    "ExecuteTime": {
     "end_time": "2022-06-24T15:42:25.967708Z",
     "start_time": "2022-06-24T15:42:25.964142Z"
    }
   },
   "outputs": [
    {
     "data": {
      "text/plain": [
       "float"
      ]
     },
     "execution_count": 18,
     "metadata": {},
     "output_type": "execute_result"
    }
   ],
   "source": [
    "#Float\n",
    "type(3.14159)"
   ]
  },
  {
   "cell_type": "code",
   "execution_count": 23,
   "id": "263def4f",
   "metadata": {
    "ExecuteTime": {
     "end_time": "2022-06-24T16:27:41.629598Z",
     "start_time": "2022-06-24T16:27:41.624427Z"
    }
   },
   "outputs": [
    {
     "name": "stdout",
     "output_type": "stream",
     "text": [
      "2.56\n"
     ]
    }
   ],
   "source": [
    "print(round(2.555,2))"
   ]
  },
  {
   "cell_type": "code",
   "execution_count": null,
   "id": "ec87f769",
   "metadata": {},
   "outputs": [],
   "source": []
  },
  {
   "cell_type": "markdown",
   "id": "5c8b8efa",
   "metadata": {},
   "source": [
    "Objects of Boolean type may have one of two values, True or False:\n"
   ]
  },
  {
   "cell_type": "code",
   "execution_count": 44,
   "id": "8b1a5c9e",
   "metadata": {
    "ExecuteTime": {
     "end_time": "2022-06-22T05:18:02.510103Z",
     "start_time": "2022-06-22T05:18:02.504746Z"
    }
   },
   "outputs": [
    {
     "data": {
      "text/plain": [
       "bool"
      ]
     },
     "execution_count": 44,
     "metadata": {},
     "output_type": "execute_result"
    }
   ],
   "source": [
    "type(True)"
   ]
  },
  {
   "cell_type": "code",
   "execution_count": 45,
   "id": "69dac002",
   "metadata": {
    "ExecuteTime": {
     "end_time": "2022-06-22T05:18:21.413942Z",
     "start_time": "2022-06-22T05:18:21.406135Z"
    }
   },
   "outputs": [
    {
     "data": {
      "text/plain": [
       "bool"
      ]
     },
     "execution_count": 45,
     "metadata": {},
     "output_type": "execute_result"
    }
   ],
   "source": [
    "type(False)"
   ]
  },
  {
   "cell_type": "code",
   "execution_count": null,
   "id": "d5821c7b",
   "metadata": {},
   "outputs": [],
   "source": []
  },
  {
   "cell_type": "code",
   "execution_count": 25,
   "id": "67963c62",
   "metadata": {
    "ExecuteTime": {
     "end_time": "2022-06-24T16:29:55.062394Z",
     "start_time": "2022-06-24T16:29:55.059850Z"
    }
   },
   "outputs": [
    {
     "name": "stdout",
     "output_type": "stream",
     "text": [
      " your score is 0, your height is 1.8,you are high is True\n"
     ]
    }
   ],
   "source": [
    "#f-string\n",
    "score = 0\n",
    "height =1.8\n",
    "ishigh = True\n",
    "print(f\" your score is {score}, your height is {height},you are high is {ishigh}\")"
   ]
  },
  {
   "cell_type": "code",
   "execution_count": null,
   "id": "479995ce",
   "metadata": {},
   "outputs": [],
   "source": []
  },
  {
   "cell_type": "markdown",
   "id": "b91c8d93",
   "metadata": {},
   "source": [
    "## Operators in Python"
   ]
  },
  {
   "cell_type": "markdown",
   "id": "90556ae5",
   "metadata": {},
   "source": [
    "### Arithmetic Operators\n"
   ]
  },
  {
   "cell_type": "markdown",
   "id": "a0c7be3a",
   "metadata": {},
   "source": [
    "<img src=\"resources/test_12.png\"></img>"
   ]
  },
  {
   "cell_type": "code",
   "execution_count": 38,
   "id": "1577c67a",
   "metadata": {
    "ExecuteTime": {
     "end_time": "2022-06-25T04:31:41.981566Z",
     "start_time": "2022-06-25T04:31:41.978047Z"
    }
   },
   "outputs": [
    {
     "name": "stdout",
     "output_type": "stream",
     "text": [
      "-3\n",
      "7\n",
      "1\n",
      "12\n"
     ]
    }
   ],
   "source": [
    "a = 4\n",
    "b = 3\n",
    "\n",
    "print(-b)\n",
    "\n",
    "print(a + b)\n",
    "\n",
    "print(a - b)\n",
    "\n",
    "print(a * b)"
   ]
  },
  {
   "cell_type": "code",
   "execution_count": 39,
   "id": "be4c508f",
   "metadata": {
    "ExecuteTime": {
     "end_time": "2022-06-25T04:31:42.775917Z",
     "start_time": "2022-06-25T04:31:42.772798Z"
    }
   },
   "outputs": [
    {
     "name": "stdout",
     "output_type": "stream",
     "text": [
      "1.3333333333333333\n",
      "1\n",
      "64\n"
     ]
    }
   ],
   "source": [
    "print(a / b)\n",
    "\n",
    "print(a % b)\n",
    "\n",
    "print(a ** b)"
   ]
  },
  {
   "cell_type": "markdown",
   "id": "ac5c77b7",
   "metadata": {},
   "source": [
    "The result of standard division (/) is always a float, even if the dividend is evenly divisible by the divisor:\n",
    "\n"
   ]
  },
  {
   "cell_type": "code",
   "execution_count": 51,
   "id": "23254308",
   "metadata": {
    "ExecuteTime": {
     "end_time": "2022-06-22T05:35:54.442546Z",
     "start_time": "2022-06-22T05:35:54.440253Z"
    }
   },
   "outputs": [
    {
     "name": "stdout",
     "output_type": "stream",
     "text": [
      "2.0\n"
     ]
    }
   ],
   "source": [
    "print(10/5)"
   ]
  },
  {
   "cell_type": "code",
   "execution_count": 50,
   "id": "8eb12c38",
   "metadata": {
    "ExecuteTime": {
     "end_time": "2022-06-22T05:35:50.034498Z",
     "start_time": "2022-06-22T05:35:50.031722Z"
    }
   },
   "outputs": [
    {
     "data": {
      "text/plain": [
       "float"
      ]
     },
     "execution_count": 50,
     "metadata": {},
     "output_type": "execute_result"
    }
   ],
   "source": [
    "type(10 / 5)"
   ]
  },
  {
   "cell_type": "code",
   "execution_count": 40,
   "id": "55d51efe",
   "metadata": {
    "ExecuteTime": {
     "end_time": "2022-06-25T04:42:43.173428Z",
     "start_time": "2022-06-25T04:42:43.169831Z"
    }
   },
   "outputs": [
    {
     "name": "stdout",
     "output_type": "stream",
     "text": [
      "2\n"
     ]
    }
   ],
   "source": [
    "print(10 // 4)"
   ]
  },
  {
   "cell_type": "markdown",
   "id": "67cc5058",
   "metadata": {},
   "source": [
    "When the result of floor division (//) is positive, it is as though the fractional portion is truncated off, leaving only the integer portion. When the result is negative, the result is rounded down to the next smallest (greater negative) integer:"
   ]
  },
  {
   "cell_type": "code",
   "execution_count": 52,
   "id": "b8633b2e",
   "metadata": {
    "ExecuteTime": {
     "end_time": "2022-06-22T05:58:36.274149Z",
     "start_time": "2022-06-22T05:58:36.267329Z"
    }
   },
   "outputs": [
    {
     "name": "stdout",
     "output_type": "stream",
     "text": [
      "2.5\n",
      "2\n",
      "-3\n",
      "-3\n",
      "2\n"
     ]
    }
   ],
   "source": [
    "print(10 / 4)\n",
    "\n",
    "print(10 // 4)\n",
    "\n",
    "print(10 // -4)\n",
    "\n",
    "\n",
    "print(-10 // 4)\n",
    "\n",
    "print(-10 // -4)\n"
   ]
  },
  {
   "cell_type": "markdown",
   "id": "c5be5c82",
   "metadata": {},
   "source": [
    "### Comparison Operators"
   ]
  },
  {
   "cell_type": "markdown",
   "id": "d59394c5",
   "metadata": {
    "ExecuteTime": {
     "end_time": "2022-06-22T06:00:21.989498Z",
     "start_time": "2022-06-22T06:00:21.983882Z"
    }
   },
   "source": [
    "<img src=\"resources/13.png\"></img>"
   ]
  },
  {
   "cell_type": "code",
   "execution_count": 54,
   "id": "ed87ac12",
   "metadata": {
    "ExecuteTime": {
     "end_time": "2022-06-22T06:01:35.168456Z",
     "start_time": "2022-06-22T06:01:35.160481Z"
    }
   },
   "outputs": [
    {
     "name": "stdout",
     "output_type": "stream",
     "text": [
      "False\n",
      "True\n",
      "True\n",
      "False\n",
      "True\n",
      "True\n",
      "True\n"
     ]
    }
   ],
   "source": [
    "a = 10\n",
    "b = 20\n",
    "print(a == b)\n",
    "\n",
    "print(a != b )\n",
    "\n",
    "print(a <= b)\n",
    "\n",
    "print(a >= b)\n",
    "\n",
    "\n",
    "a = 30\n",
    "b = 30\n",
    "print(a == b)\n",
    "\n",
    "print(a <= b)\n",
    "\n",
    "print(a >= b)\n"
   ]
  },
  {
   "cell_type": "code",
   "execution_count": null,
   "id": "a168ae5a",
   "metadata": {},
   "outputs": [],
   "source": []
  },
  {
   "cell_type": "markdown",
   "id": "6dc02536",
   "metadata": {},
   "source": [
    "## Condition"
   ]
  },
  {
   "cell_type": "markdown",
   "id": "b87c005c",
   "metadata": {},
   "source": [
    "### if-else \n",
    "```\n",
    "if (condition):\n",
    "    # Executes this block if\n",
    "    # condition is true\n",
    "else:\n",
    "    # Executes this block if\n",
    "    # condition is false\n",
    " ```\n",
    "\n",
    " <img src=\"resources/If-else_flowchart.png\" width=\"400\"></img>"
   ]
  },
  {
   "cell_type": "code",
   "execution_count": 41,
   "id": "51c19c9e",
   "metadata": {
    "ExecuteTime": {
     "end_time": "2022-06-25T05:00:26.045749Z",
     "start_time": "2022-06-25T05:00:26.042014Z"
    },
    "scrolled": true
   },
   "outputs": [
    {
     "name": "stdout",
     "output_type": "stream",
     "text": [
      "i is greater than 15\n",
      "i'm in else Block\n",
      "i'm not in if and not in else Block\n"
     ]
    }
   ],
   "source": [
    "i = 20\n",
    "if (i < 15):\n",
    "    print(\"i is smaller than 15\")\n",
    "    print(\"i'm in if Block\")\n",
    "else:\n",
    "    print(\"i is greater than 15\")\n",
    "    print(\"i'm in else Block\")\n",
    "print(\"i'm not in if and not in else Block\")"
   ]
  },
  {
   "cell_type": "code",
   "execution_count": null,
   "id": "2a7fb2b7",
   "metadata": {},
   "outputs": [],
   "source": []
  },
  {
   "cell_type": "markdown",
   "id": "750d4b91",
   "metadata": {},
   "source": [
    "## jupyter basic"
   ]
  },
  {
   "cell_type": "code",
   "execution_count": null,
   "id": "e2cbf3ae",
   "metadata": {},
   "outputs": [],
   "source": [
    "pip install jupyter_contrib_nbextensions && jupyter contrib nbextension install "
   ]
  },
  {
   "cell_type": "markdown",
   "id": "20b87469",
   "metadata": {},
   "source": [
    "shift + enter = run cell\n",
    "\n",
    "b = new cell\n",
    "\n",
    "d = delete cell\n",
    "\n",
    "zz = undo delete cell"
   ]
  },
  {
   "cell_type": "code",
   "execution_count": null,
   "id": "3e816920",
   "metadata": {},
   "outputs": [],
   "source": [
    "conda install -c conda-forge jupyter_contrib_nbextensions\n",
    "jupyter nbextensions_configurator enable --user"
   ]
  },
  {
   "cell_type": "markdown",
   "id": "e76b3a63",
   "metadata": {},
   "source": [
    " "
   ]
  },
  {
   "cell_type": "markdown",
   "id": "5e4f0689",
   "metadata": {},
   "source": [
    "## Python functions\n",
    "\n",
    "Python def keyword is used to define a function, it is placed before a function name that is provided by the user to create a user-defined function. \n",
    "\n",
    "In python, a function is a logical unit of code containing a sequence of statements indented under a name given using the “def” keyword.\n",
    "\n",
    "\n",
    "```\n",
    "def function_name: \n",
    "    function definition statements...\n",
    "```\n",
    "\n",
    "\n",
    "- Use of def keyword:\n",
    "\n",
    "    - In the case of classes, the def keyword is used for defining the methods of a class.\n",
    "    - **def** keyword is also required to define the special member function of a class like **__init__().**"
   ]
  },
  {
   "cell_type": "code",
   "execution_count": 54,
   "id": "f79b1393",
   "metadata": {
    "ExecuteTime": {
     "end_time": "2022-06-25T16:05:25.906398Z",
     "start_time": "2022-06-25T16:05:25.903863Z"
    }
   },
   "outputs": [
    {
     "name": "stdout",
     "output_type": "stream",
     "text": [
      "Hello from a function\n"
     ]
    }
   ],
   "source": [
    "def my_function():\n",
    "    print(\"Hello from a function\")\n",
    "\n",
    "my_function()"
   ]
  },
  {
   "cell_type": "markdown",
   "id": "a90eb080",
   "metadata": {},
   "source": [
    "### Arguments\n",
    "\n",
    "Information can be passed into functions as arguments.\n",
    "\n",
    "Arguments are specified after the function name, inside the parentheses. You can add as many arguments as you want, just separate them with a comma.\n",
    "\n",
    "The following example has a function with one argument (fname). When the function is called, we pass along a first name, which is used inside the function to print the full name:"
   ]
  },
  {
   "cell_type": "code",
   "execution_count": 57,
   "id": "56d14b9c",
   "metadata": {
    "ExecuteTime": {
     "end_time": "2022-06-25T16:06:49.078983Z",
     "start_time": "2022-06-25T16:06:49.076149Z"
    }
   },
   "outputs": [
    {
     "name": "stdout",
     "output_type": "stream",
     "text": [
      "James Homes\n",
      "Sherlock Homes\n",
      "Linus Homes\n"
     ]
    }
   ],
   "source": [
    "def my_function(fname):\n",
    "    print(fname + \" Homes\")\n",
    "\n",
    "my_function(\"James\")\n",
    "my_function(\"Sherlock\")\n",
    "my_function(\"Linus\")"
   ]
  },
  {
   "cell_type": "markdown",
   "id": "b6a80705",
   "metadata": {
    "ExecuteTime": {
     "end_time": "2022-06-25T16:07:00.802231Z",
     "start_time": "2022-06-25T16:07:00.799370Z"
    }
   },
   "source": [
    "**Arguments are often shortened to args in Python documentations.**"
   ]
  },
  {
   "cell_type": "markdown",
   "id": "c628336d",
   "metadata": {
    "ExecuteTime": {
     "end_time": "2022-06-25T16:07:15.614835Z",
     "start_time": "2022-06-25T16:07:15.613115Z"
    }
   },
   "source": [
    "### Parameters or Arguments?\n",
    "\n",
    "The terms parameter and argument can be used for the same thing: information that are passed into a function.\n",
    "\n",
    "From a function's perspective:\n",
    "\n",
    "- A parameter is the variable listed inside the parentheses in the function definition.\n",
    "\n",
    "- An argument is the value that is sent to the function when it is called."
   ]
  },
  {
   "cell_type": "markdown",
   "id": "5b2b918d",
   "metadata": {},
   "source": [
    "Number of Arguments\n",
    "\n",
    "By default, a function must be called with the correct number of arguments. Meaning that if your function expects 2 arguments, you have to call the function with 2 arguments, not more, and not less."
   ]
  },
  {
   "cell_type": "code",
   "execution_count": 60,
   "id": "644c1753",
   "metadata": {
    "ExecuteTime": {
     "end_time": "2022-06-25T16:08:09.414588Z",
     "start_time": "2022-06-25T16:08:09.412398Z"
    }
   },
   "outputs": [
    {
     "name": "stdout",
     "output_type": "stream",
     "text": [
      "Emil Refsnes\n"
     ]
    }
   ],
   "source": [
    "def my_function(fname, lname):\n",
    "    print(fname + \" \" + lname)\n",
    "\n",
    "my_function(\"Emil\", \"Refsnes\")"
   ]
  },
  {
   "cell_type": "markdown",
   "id": "1fabfb2a",
   "metadata": {},
   "source": [
    "If you try to call the function with 1 or 3 arguments, you will get an error:"
   ]
  },
  {
   "cell_type": "code",
   "execution_count": 61,
   "id": "17bb30a2",
   "metadata": {
    "ExecuteTime": {
     "end_time": "2022-06-25T16:08:10.814970Z",
     "start_time": "2022-06-25T16:08:10.809751Z"
    },
    "scrolled": true
   },
   "outputs": [
    {
     "ename": "TypeError",
     "evalue": "my_function() missing 1 required positional argument: 'lname'",
     "output_type": "error",
     "traceback": [
      "\u001b[0;31m---------------------------------------------------------------------------\u001b[0m",
      "\u001b[0;31mTypeError\u001b[0m                                 Traceback (most recent call last)",
      "\u001b[0;32m/tmp/ipykernel_6645/2160588473.py\u001b[0m in \u001b[0;36m<module>\u001b[0;34m\u001b[0m\n\u001b[1;32m      3\u001b[0m     \u001b[0mprint\u001b[0m\u001b[0;34m(\u001b[0m\u001b[0mfname\u001b[0m \u001b[0;34m+\u001b[0m \u001b[0;34m\" \"\u001b[0m \u001b[0;34m+\u001b[0m \u001b[0mlname\u001b[0m\u001b[0;34m)\u001b[0m\u001b[0;34m\u001b[0m\u001b[0;34m\u001b[0m\u001b[0m\n\u001b[1;32m      4\u001b[0m \u001b[0;34m\u001b[0m\u001b[0m\n\u001b[0;32m----> 5\u001b[0;31m \u001b[0mmy_function\u001b[0m\u001b[0;34m(\u001b[0m\u001b[0;34m\"Emil\"\u001b[0m\u001b[0;34m)\u001b[0m\u001b[0;34m\u001b[0m\u001b[0;34m\u001b[0m\u001b[0m\n\u001b[0m",
      "\u001b[0;31mTypeError\u001b[0m: my_function() missing 1 required positional argument: 'lname'"
     ]
    }
   ],
   "source": [
    "## this will result error\n",
    "def my_function(fname, lname):\n",
    "    print(fname + \" \" + lname)\n",
    "\n",
    "my_function(\"Emil\")"
   ]
  },
  {
   "cell_type": "markdown",
   "id": "2f70ab72",
   "metadata": {},
   "source": [
    "### Python function examples"
   ]
  },
  {
   "cell_type": "code",
   "execution_count": null,
   "id": "97653656",
   "metadata": {},
   "outputs": [],
   "source": [
    "\n",
    "\n",
    "# function for subtraction of 2 numbers.\n",
    "def subNumbers(x, y):\n",
    "    return (x-y)\n",
    "\n",
    "# main code\n",
    "a = 90\n",
    "b = 50\n",
    "\n",
    "# finding subtraction\n",
    "result = subNumbers(a, b)\n",
    "\n",
    "# print statement\n",
    "print(\"subtraction of \", a, \" and \", b, \" is = \", result)"
   ]
  },
  {
   "cell_type": "code",
   "execution_count": null,
   "id": "2a563169",
   "metadata": {},
   "outputs": [],
   "source": []
  },
  {
   "cell_type": "markdown",
   "id": "8dc56dc2",
   "metadata": {},
   "source": [
    "### Arbitrary Arguments, *args\n",
    "\n",
    "If you do not know how many arguments that will be passed into your function, add a * before the parameter name in the function definition.\n",
    "\n",
    "This way the function will receive a tuple of arguments, and can access the items accordingly:"
   ]
  },
  {
   "cell_type": "code",
   "execution_count": 63,
   "id": "b43b4edb",
   "metadata": {
    "ExecuteTime": {
     "end_time": "2022-06-25T16:10:48.836787Z",
     "start_time": "2022-06-25T16:10:48.834187Z"
    }
   },
   "outputs": [
    {
     "name": "stdout",
     "output_type": "stream",
     "text": [
      "The youngest child is Linus\n"
     ]
    }
   ],
   "source": [
    "def my_function(*kids):\n",
    "    print(\"The youngest child is \" + kids[2])\n",
    "\n",
    "my_function(\"Emil\", \"Tobias\", \"Linus\")"
   ]
  },
  {
   "cell_type": "markdown",
   "id": "6447e997",
   "metadata": {},
   "source": [
    "### Keyword Arguments\n",
    "\n",
    "You can also send arguments with the key = value syntax.\n",
    "\n",
    "This way the order of the arguments does not matter."
   ]
  },
  {
   "cell_type": "code",
   "execution_count": null,
   "id": "fb36d3b6",
   "metadata": {},
   "outputs": [],
   "source": [
    "def my_function(child3, child2, child1):\n",
    "  print(\"The youngest child is \" + child3)\n",
    "\n",
    "my_function(child1 = \"Emil\", child2 = \"Tobias\", child3 = \"Linus\")"
   ]
  },
  {
   "cell_type": "markdown",
   "id": "24d0b01b",
   "metadata": {},
   "source": [
    "### Default Parameter Value\n",
    "\n",
    "The following example shows how to use a default parameter value.\n",
    "\n",
    "If we call the function without argument, it uses the default value:"
   ]
  },
  {
   "cell_type": "code",
   "execution_count": null,
   "id": "87c644e7",
   "metadata": {},
   "outputs": [],
   "source": [
    "def my_function(country = \"Norway\"):\n",
    "  print(\"I am from \" + country)\n",
    "\n",
    "my_function(\"Sweden\")\n",
    "my_function(\"India\")\n",
    "my_function()\n",
    "my_function(\"Brazil\")"
   ]
  },
  {
   "cell_type": "markdown",
   "id": "f7985748",
   "metadata": {},
   "source": [
    "### Return Values\n",
    "\n",
    "To let a function return a value, use the **return** statement:"
   ]
  },
  {
   "cell_type": "code",
   "execution_count": 64,
   "id": "e4b83636",
   "metadata": {
    "ExecuteTime": {
     "end_time": "2022-06-25T16:22:08.681771Z",
     "start_time": "2022-06-25T16:22:08.678143Z"
    },
    "scrolled": false
   },
   "outputs": [
    {
     "name": "stdout",
     "output_type": "stream",
     "text": [
      "15\n",
      "25\n",
      "45\n"
     ]
    }
   ],
   "source": [
    "def my_function(x):\n",
    "  return 5 * x\n",
    "\n",
    "print(my_function(3))\n",
    "print(my_function(5))\n",
    "print(my_function(9))"
   ]
  },
  {
   "cell_type": "markdown",
   "id": "98b806dc",
   "metadata": {},
   "source": [
    "## Switch\n",
    "The switch is a **control mechanism** that tests the value stored in a variable and executes the corresponding case statements. \n",
    "\n",
    "Switch case statement introduces control flow in your program and **ensures that your code is not cluttered by multiple ‘if’ statements.**\n",
    "\n",
    "Unlike every other programming language we have used before, **Python does not have a switch or case statement. To get around this fact, we use dictionary mapping.**"
   ]
  },
  {
   "cell_type": "code",
   "execution_count": 65,
   "id": "89c5a2b5",
   "metadata": {
    "ExecuteTime": {
     "end_time": "2022-06-25T16:24:24.276296Z",
     "start_time": "2022-06-25T16:24:24.273148Z"
    }
   },
   "outputs": [
    {
     "name": "stdout",
     "output_type": "stream",
     "text": [
      "fruit is Banana\n"
     ]
    }
   ],
   "source": [
    "# if-elif statement example \n",
    "\n",
    "fruit = 'Banana'\n",
    "\n",
    "if fruit == 'Mango': \n",
    "    print(\"letter is Mango\") \n",
    "\n",
    "elif fruit == \"Grapes\": \n",
    "    print(\"letter is Grapes\") \n",
    "\n",
    "elif fruit == \"Banana\": \n",
    "    print(\"fruit is Banana\") \n",
    "\n",
    "else: \n",
    "    print(\"fruit isn't Banana, Mango or Grapes\") "
   ]
  },
  {
   "cell_type": "code",
   "execution_count": 66,
   "id": "b16b9f5d",
   "metadata": {
    "ExecuteTime": {
     "end_time": "2022-06-25T16:24:31.353639Z",
     "start_time": "2022-06-25T16:24:26.099020Z"
    }
   },
   "outputs": [
    {
     "name": "stdout",
     "output_type": "stream",
     "text": [
      "please input a number between 0 and 20\n"
     ]
    },
    {
     "data": {
      "text/plain": [
       "'zero'"
      ]
     },
     "execution_count": 66,
     "metadata": {},
     "output_type": "execute_result"
    }
   ],
   "source": [
    "user_input = int(input(\"please input a number between 0 and 2\"))\n",
    "\n",
    "switcher = {\n",
    "\t\t0: \"zero\",\n",
    "\t\t1: \"one\",\n",
    "\t\t2: \"two\",\n",
    "\t}\n",
    "    \n",
    "switcher.get(user_input, \"nothing\")"
   ]
  },
  {
   "cell_type": "code",
   "execution_count": null,
   "id": "bf75fd30",
   "metadata": {},
   "outputs": [],
   "source": [
    "# Implement Python Switch Case Statement using Dictionary\n",
    "\n",
    "def monday():\n",
    "    return \"monday\"\n",
    "def tuesday():\n",
    "    return \"tuesday\"\n",
    "def wednesday():\n",
    "    return \"wednesday\"\n",
    "def thursday():\n",
    "    return \"thursday\"\n",
    "def friday():\n",
    "    return \"friday\"\n",
    "def saturday():\n",
    "    return \"saturday\"\n",
    "def sunday():\n",
    "    return \"sunday\"\n",
    "def default():\n",
    "    return \"Incorrect day\"\n",
    "\n",
    "switcher = {\n",
    "    1: monday,\n",
    "    2: tuesday,\n",
    "    3: wednesday,\n",
    "    4: thursday,\n",
    "    5: friday,\n",
    "    6: saturday,\n",
    "    7: sunday\n",
    "    }\n",
    "\n",
    "def switch(dayOfWeek):\n",
    "    return switcher.get(dayOfWeek, default)()\n",
    "\n",
    "print(switch(3))\n",
    "print(switch(5))"
   ]
  },
  {
   "cell_type": "code",
   "execution_count": null,
   "id": "6d437308",
   "metadata": {},
   "outputs": [],
   "source": []
  },
  {
   "cell_type": "markdown",
   "id": "27afa234",
   "metadata": {},
   "source": [
    "## Logical Operators"
   ]
  },
  {
   "cell_type": "markdown",
   "id": "44deac65",
   "metadata": {},
   "source": [
    "The logical operators not, or, and and modify and join together expressions evaluated in Boolean context to create more complex conditions."
   ]
  },
  {
   "cell_type": "markdown",
   "id": "c44233d9",
   "metadata": {},
   "source": [
    "<img src=\"resources/15.png\"></img>"
   ]
  },
  {
   "cell_type": "markdown",
   "id": "e3c1170f",
   "metadata": {},
   "source": [
    "### Not boolean operators"
   ]
  },
  {
   "cell_type": "code",
   "execution_count": 6,
   "id": "697ba20c",
   "metadata": {
    "ExecuteTime": {
     "end_time": "2022-06-26T02:52:09.009417Z",
     "start_time": "2022-06-26T02:52:09.006591Z"
    }
   },
   "outputs": [
    {
     "name": "stdout",
     "output_type": "stream",
     "text": [
      "False\n",
      "True\n"
     ]
    }
   ],
   "source": [
    "x = 5\n",
    "print(not x < 10)\n",
    "\n",
    "print(not x> 8)\n"
   ]
  },
  {
   "cell_type": "markdown",
   "id": "a41a9626",
   "metadata": {},
   "source": [
    "### “or” and Boolean Operands"
   ]
  },
  {
   "cell_type": "code",
   "execution_count": 2,
   "id": "9fcf6a1c",
   "metadata": {
    "ExecuteTime": {
     "end_time": "2022-06-26T02:09:17.328234Z",
     "start_time": "2022-06-26T02:09:17.324600Z"
    }
   },
   "outputs": [
    {
     "name": "stdout",
     "output_type": "stream",
     "text": [
      "True\n",
      "False\n"
     ]
    }
   ],
   "source": [
    "x = 5\n",
    "print(x < 10 or x > 15)\n",
    "\n",
    "print(x < 0 or  x > 6)\n"
   ]
  },
  {
   "cell_type": "markdown",
   "id": "367f42bc",
   "metadata": {},
   "source": [
    "### “and” and Boolean Operands"
   ]
  },
  {
   "cell_type": "code",
   "execution_count": 4,
   "id": "873b2a3d",
   "metadata": {
    "ExecuteTime": {
     "end_time": "2022-06-26T02:10:04.125676Z",
     "start_time": "2022-06-26T02:10:04.122938Z"
    }
   },
   "outputs": [
    {
     "name": "stdout",
     "output_type": "stream",
     "text": [
      "False\n",
      "False\n"
     ]
    }
   ],
   "source": [
    "x = 5\n",
    "print(x < 10 and x > 15)\n",
    "\n",
    "print(x < 0 and  x > 6)\n"
   ]
  },
  {
   "cell_type": "markdown",
   "id": "bdb5a9b0",
   "metadata": {},
   "source": [
    "### The in Operator\n",
    "\n",
    "Python also provides a membership operator that can be used with strings. The in operator returns True if the first operand is contained within the second, and False otherwise:\n",
    "\n",
    "\n"
   ]
  },
  {
   "cell_type": "code",
   "execution_count": 84,
   "id": "a756ac29",
   "metadata": {
    "ExecuteTime": {
     "end_time": "2022-06-22T07:13:25.949748Z",
     "start_time": "2022-06-22T07:13:25.944237Z"
    }
   },
   "outputs": [
    {
     "name": "stdout",
     "output_type": "stream",
     "text": [
      "True\n",
      "False\n"
     ]
    }
   ],
   "source": [
    "s = 'foo'\n",
    "\n",
    "print(s in 'That\\'s food for thought.')\n",
    "\n",
    "print(s in 'That\\'s good for now.')"
   ]
  },
  {
   "cell_type": "markdown",
   "id": "5c19aa48",
   "metadata": {},
   "source": [
    "There is also a not in operator, which does the opposite:\n",
    "\n"
   ]
  },
  {
   "cell_type": "code",
   "execution_count": 85,
   "id": "b0a0b67a",
   "metadata": {
    "ExecuteTime": {
     "end_time": "2022-06-22T07:14:24.137312Z",
     "start_time": "2022-06-22T07:14:24.131670Z"
    }
   },
   "outputs": [
    {
     "name": "stdout",
     "output_type": "stream",
     "text": [
      "True\n",
      "False\n"
     ]
    }
   ],
   "source": [
    "print('z' not in 'abc')\n",
    "\n",
    "print('z' not in 'xyz')\n"
   ]
  },
  {
   "cell_type": "markdown",
   "id": "c6419457",
   "metadata": {},
   "source": [
    "len(s) > Returns the length of a string.\n",
    "s = 'I am a string.'\n",
    "print(len(s))"
   ]
  },
  {
   "cell_type": "markdown",
   "id": "c596784c",
   "metadata": {},
   "source": [
    "## random\n",
    "Python Random module is an in-built module of Python which is used to generate random numbers. These are pseudo-random numbers means these are not truly random. This module can be used to perform random actions such as generating random numbers, print random a value for a list or string, etc.\n"
   ]
  },
  {
   "cell_type": "code",
   "execution_count": 52,
   "id": "ab948115",
   "metadata": {
    "ExecuteTime": {
     "end_time": "2022-06-25T15:18:53.846196Z",
     "start_time": "2022-06-25T15:18:53.841405Z"
    }
   },
   "outputs": [
    {
     "name": "stdout",
     "output_type": "stream",
     "text": [
      "0.6229016948897019\n",
      "0.6229016948897019\n"
     ]
    }
   ],
   "source": [
    "# import random\n",
    "import random\n",
    "\n",
    "random.seed(5)\n",
    "\n",
    "print(random.random())\n",
    "\n",
    "random.seed(5)\n",
    "print(random.random())"
   ]
  },
  {
   "cell_type": "markdown",
   "id": "b9ff58da",
   "metadata": {},
   "source": [
    "### Creating Random Integers\n",
    "**random.randint()** method is used to generate random integers between the given range.\n",
    "\n",
    "```\n",
    "randint(start, end)\n",
    "\n",
    "```"
   ]
  },
  {
   "cell_type": "code",
   "execution_count": 67,
   "id": "2aadcdda",
   "metadata": {
    "ExecuteTime": {
     "end_time": "2022-06-25T16:28:39.746887Z",
     "start_time": "2022-06-25T16:28:39.743612Z"
    }
   },
   "outputs": [
    {
     "name": "stdout",
     "output_type": "stream",
     "text": [
      "Random number between 5 and 15 is 10\n",
      "Random number between -10 and -2 is -2\n"
     ]
    }
   ],
   "source": [
    "# Python3 program explaining work\n",
    "# of randint() function\n",
    "\n",
    "# import random module\n",
    "import random\n",
    "\n",
    "# Generates a random number between\n",
    "# a given positive range\n",
    "r1 = random.randint(5, 15)\n",
    "print(\"Random number between 5 and 15 is % s\" % (r1))\n",
    "\n",
    "# Generates a random number between\n",
    "# two given negative range\n",
    "r2 = random.randint(-10, -2)\n",
    "print(\"Random number between -10 and -2 is % d\" % (r2))"
   ]
  },
  {
   "cell_type": "code",
   "execution_count": null,
   "id": "ecd3f7ba",
   "metadata": {},
   "outputs": [],
   "source": []
  },
  {
   "cell_type": "code",
   "execution_count": null,
   "id": "ef693a92",
   "metadata": {},
   "outputs": [],
   "source": []
  },
  {
   "cell_type": "markdown",
   "id": "8dd548bf",
   "metadata": {},
   "source": [
    "## Built-in String Methods\n"
   ]
  },
  {
   "cell_type": "markdown",
   "id": "5b200467",
   "metadata": {},
   "source": [
    "### Specifying a Stride in a String Slice"
   ]
  },
  {
   "cell_type": "code",
   "execution_count": 8,
   "id": "1be309d4",
   "metadata": {
    "ExecuteTime": {
     "end_time": "2022-06-26T04:30:18.937924Z",
     "start_time": "2022-06-26T04:30:18.936173Z"
    }
   },
   "outputs": [],
   "source": [
    "s = 'foobar'"
   ]
  },
  {
   "cell_type": "code",
   "execution_count": 47,
   "id": "d86aff10",
   "metadata": {
    "ExecuteTime": {
     "end_time": "2022-06-25T15:12:58.637237Z",
     "start_time": "2022-06-25T15:12:58.634430Z"
    }
   },
   "outputs": [
    {
     "data": {
      "text/plain": [
       "'foa'"
      ]
     },
     "execution_count": 47,
     "metadata": {},
     "output_type": "execute_result"
    }
   ],
   "source": [
    "s[0:6:2]"
   ]
  },
  {
   "cell_type": "code",
   "execution_count": 48,
   "id": "fb7332d3",
   "metadata": {
    "ExecuteTime": {
     "end_time": "2022-06-25T15:12:59.334738Z",
     "start_time": "2022-06-25T15:12:59.330268Z"
    }
   },
   "outputs": [
    {
     "data": {
      "text/plain": [
       "'obr'"
      ]
     },
     "execution_count": 48,
     "metadata": {},
     "output_type": "execute_result"
    }
   ],
   "source": [
    "\n",
    "s[1:6:2]"
   ]
  },
  {
   "cell_type": "markdown",
   "id": "1dcadb85",
   "metadata": {},
   "source": [
    "### Case conversion : s.capitalize()"
   ]
  },
  {
   "cell_type": "code",
   "execution_count": 127,
   "id": "375346d7",
   "metadata": {
    "ExecuteTime": {
     "end_time": "2022-06-22T07:51:49.657890Z",
     "start_time": "2022-06-22T07:51:49.652451Z"
    }
   },
   "outputs": [
    {
     "data": {
      "text/plain": [
       "'Foo bar baz qux'"
      ]
     },
     "execution_count": 127,
     "metadata": {},
     "output_type": "execute_result"
    }
   ],
   "source": [
    "s = 'foO BaR BAZ quX'\n",
    "s.capitalize()"
   ]
  },
  {
   "cell_type": "markdown",
   "id": "2476649c",
   "metadata": {},
   "source": [
    "### Lower case conversion : s.lower()"
   ]
  },
  {
   "cell_type": "code",
   "execution_count": 128,
   "id": "3b471fe0",
   "metadata": {
    "ExecuteTime": {
     "end_time": "2022-06-22T07:52:32.258315Z",
     "start_time": "2022-06-22T07:52:32.253199Z"
    }
   },
   "outputs": [
    {
     "data": {
      "text/plain": [
       "'foo bar 123 baz qux'"
      ]
     },
     "execution_count": 128,
     "metadata": {},
     "output_type": "execute_result"
    }
   ],
   "source": [
    "'FOO Bar 123 baz qUX'.lower()"
   ]
  },
  {
   "cell_type": "markdown",
   "id": "ce282cdf",
   "metadata": {},
   "source": [
    "### s.swapcase() : swaps case of alphabetic characters."
   ]
  },
  {
   "cell_type": "code",
   "execution_count": 129,
   "id": "2b566b29",
   "metadata": {
    "ExecuteTime": {
     "end_time": "2022-06-22T07:55:50.572745Z",
     "start_time": "2022-06-22T07:55:50.566158Z"
    }
   },
   "outputs": [
    {
     "data": {
      "text/plain": [
       "'foo bAR 123 BAZ Qux'"
      ]
     },
     "execution_count": 129,
     "metadata": {},
     "output_type": "execute_result"
    }
   ],
   "source": [
    "'FOO Bar 123 baz qUX'.swapcase()"
   ]
  },
  {
   "cell_type": "markdown",
   "id": "02956507",
   "metadata": {},
   "source": [
    "### s.title() : Converts the target string to “title case.”"
   ]
  },
  {
   "cell_type": "code",
   "execution_count": 130,
   "id": "7238dd08",
   "metadata": {
    "ExecuteTime": {
     "end_time": "2022-06-22T07:56:35.770974Z",
     "start_time": "2022-06-22T07:56:35.765363Z"
    }
   },
   "outputs": [
    {
     "data": {
      "text/plain": [
       "'The Sun Also Rises'"
      ]
     },
     "execution_count": 130,
     "metadata": {},
     "output_type": "execute_result"
    }
   ],
   "source": [
    "'the sun also rises'.title()"
   ]
  },
  {
   "cell_type": "code",
   "execution_count": 131,
   "id": "ac0a1438",
   "metadata": {
    "ExecuteTime": {
     "end_time": "2022-06-22T07:56:42.341735Z",
     "start_time": "2022-06-22T07:56:42.336758Z"
    }
   },
   "outputs": [
    {
     "data": {
      "text/plain": [
       "\"What'S Happened To Ted'S Ibm Stock?\""
      ]
     },
     "execution_count": 131,
     "metadata": {},
     "output_type": "execute_result"
    }
   ],
   "source": [
    "\"what's happened to ted's IBM stock?\".title()"
   ]
  },
  {
   "cell_type": "markdown",
   "id": "994f51ba",
   "metadata": {},
   "source": [
    "### s.upper() : Converts alphabetic characters to uppercase."
   ]
  },
  {
   "cell_type": "code",
   "execution_count": 132,
   "id": "a13a064d",
   "metadata": {
    "ExecuteTime": {
     "end_time": "2022-06-22T07:57:06.878040Z",
     "start_time": "2022-06-22T07:57:06.872573Z"
    }
   },
   "outputs": [
    {
     "data": {
      "text/plain": [
       "'FOO BAR 123 BAZ QUX'"
      ]
     },
     "execution_count": 132,
     "metadata": {},
     "output_type": "execute_result"
    }
   ],
   "source": [
    "'FOO Bar 123 baz qUX'.upper()"
   ]
  },
  {
   "cell_type": "markdown",
   "id": "c61bf403",
   "metadata": {},
   "source": [
    "### Find and Replace\n"
   ]
  },
  {
   "cell_type": "markdown",
   "id": "20e9663f",
   "metadata": {},
   "source": [
    "```s.count(<sub>[, <start>[, <end>]])``` : Counts occurrences of a substring in the target string.\n",
    "\n"
   ]
  },
  {
   "cell_type": "code",
   "execution_count": 134,
   "id": "feceefff",
   "metadata": {
    "ExecuteTime": {
     "end_time": "2022-06-22T07:58:05.296216Z",
     "start_time": "2022-06-22T07:58:05.289833Z"
    }
   },
   "outputs": [
    {
     "data": {
      "text/plain": [
       "3"
      ]
     },
     "execution_count": 134,
     "metadata": {},
     "output_type": "execute_result"
    }
   ],
   "source": [
    "'foo goo moo'.count('oo')"
   ]
  },
  {
   "cell_type": "code",
   "execution_count": 135,
   "id": "7637a804",
   "metadata": {
    "ExecuteTime": {
     "end_time": "2022-06-22T07:58:11.703616Z",
     "start_time": "2022-06-22T07:58:11.697460Z"
    }
   },
   "outputs": [
    {
     "data": {
      "text/plain": [
       "2"
      ]
     },
     "execution_count": 135,
     "metadata": {},
     "output_type": "execute_result"
    }
   ],
   "source": [
    "'foo goo moo'.count()'oo', 0, 8)"
   ]
  },
  {
   "cell_type": "markdown",
   "id": "41392de3",
   "metadata": {},
   "source": [
    "```s.endswith(<suffix>[, <start>[, <end>]]) ```: Determines whether the target string ends with a given substring."
   ]
  },
  {
   "cell_type": "code",
   "execution_count": 136,
   "id": "0759a7c6",
   "metadata": {
    "ExecuteTime": {
     "end_time": "2022-06-22T08:02:53.315022Z",
     "start_time": "2022-06-22T08:02:53.309505Z"
    }
   },
   "outputs": [
    {
     "name": "stdout",
     "output_type": "stream",
     "text": [
      "True\n",
      "False\n"
     ]
    }
   ],
   "source": [
    "print('foobar'.endswith('bar'))\n",
    "print('foobar'.endswith('oob', 2, 4))"
   ]
  },
  {
   "cell_type": "markdown",
   "id": "7790640c",
   "metadata": {},
   "source": [
    "```s.find(<sub>[, <start>[, <end>]]) ``` : Searches the target string for a given substring.\n",
    "\n"
   ]
  },
  {
   "cell_type": "code",
   "execution_count": 137,
   "id": "cad98142",
   "metadata": {
    "ExecuteTime": {
     "end_time": "2022-06-22T08:03:30.294809Z",
     "start_time": "2022-06-22T08:03:30.289363Z"
    }
   },
   "outputs": [
    {
     "data": {
      "text/plain": [
       "0"
      ]
     },
     "execution_count": 137,
     "metadata": {},
     "output_type": "execute_result"
    }
   ],
   "source": [
    "'foo bar foo baz foo qux'.find('foo')"
   ]
  },
  {
   "cell_type": "code",
   "execution_count": 138,
   "id": "706caf2e",
   "metadata": {
    "ExecuteTime": {
     "end_time": "2022-06-22T08:03:39.692502Z",
     "start_time": "2022-06-22T08:03:39.689891Z"
    }
   },
   "outputs": [
    {
     "data": {
      "text/plain": [
       "-1"
      ]
     },
     "execution_count": 138,
     "metadata": {},
     "output_type": "execute_result"
    }
   ],
   "source": [
    " 'foo bar foo baz foo qux'.find('grault')"
   ]
  },
  {
   "cell_type": "code",
   "execution_count": 139,
   "id": "f19588a7",
   "metadata": {
    "ExecuteTime": {
     "end_time": "2022-06-22T08:03:52.019903Z",
     "start_time": "2022-06-22T08:03:52.014558Z"
    }
   },
   "outputs": [
    {
     "data": {
      "text/plain": [
       "8"
      ]
     },
     "execution_count": 139,
     "metadata": {},
     "output_type": "execute_result"
    }
   ],
   "source": [
    "'foo bar foo baz foo qux'.find('foo', 4)"
   ]
  },
  {
   "cell_type": "code",
   "execution_count": 140,
   "id": "4e3b9696",
   "metadata": {
    "ExecuteTime": {
     "end_time": "2022-06-22T08:03:57.557225Z",
     "start_time": "2022-06-22T08:03:57.551882Z"
    }
   },
   "outputs": [
    {
     "data": {
      "text/plain": [
       "-1"
      ]
     },
     "execution_count": 140,
     "metadata": {},
     "output_type": "execute_result"
    }
   ],
   "source": [
    "'foo bar foo baz foo qux'.find('foo', 4, 7)"
   ]
  },
  {
   "cell_type": "markdown",
   "id": "c27d2350",
   "metadata": {},
   "source": [
    "``` s.index(<sub>[, <start>[, <end>]]) ``` : Searches the target string for a given substring.\n",
    "\n"
   ]
  },
  {
   "cell_type": "code",
   "execution_count": 141,
   "id": "d5f5c8c5",
   "metadata": {
    "ExecuteTime": {
     "end_time": "2022-06-22T08:04:27.384320Z",
     "start_time": "2022-06-22T08:04:27.374273Z"
    }
   },
   "outputs": [
    {
     "ename": "ValueError",
     "evalue": "substring not found",
     "output_type": "error",
     "traceback": [
      "\u001b[0;31m---------------------------------------------------------------------------\u001b[0m",
      "\u001b[0;31mValueError\u001b[0m                                Traceback (most recent call last)",
      "\u001b[0;32m/tmp/ipykernel_6231/1211660227.py\u001b[0m in \u001b[0;36m<module>\u001b[0;34m\u001b[0m\n\u001b[0;32m----> 1\u001b[0;31m \u001b[0;34m'foo bar foo baz foo qux'\u001b[0m\u001b[0;34m.\u001b[0m\u001b[0mindex\u001b[0m\u001b[0;34m(\u001b[0m\u001b[0;34m'grault'\u001b[0m\u001b[0;34m)\u001b[0m\u001b[0;34m\u001b[0m\u001b[0m\n\u001b[0m",
      "\u001b[0;31mValueError\u001b[0m: substring not found"
     ]
    }
   ],
   "source": [
    "'foo bar foo baz foo qux'.index('grault')"
   ]
  },
  {
   "cell_type": "markdown",
   "id": "61533460",
   "metadata": {},
   "source": [
    "## List "
   ]
  },
  {
   "cell_type": "markdown",
   "id": "0131e853",
   "metadata": {},
   "source": [
    "Lists are used to store multiple items in a single variable.\n",
    "\n",
    "Lists are one of 4 built-in data types in Python used to store collections of data, the other 3 are Tuple, Set, and Dictionary, all with different qualities and usage.\n",
    "\n",
    "Lists are created using square brackets:"
   ]
  },
  {
   "cell_type": "code",
   "execution_count": 143,
   "id": "b6609b25",
   "metadata": {
    "ExecuteTime": {
     "end_time": "2022-06-22T08:06:06.187483Z",
     "start_time": "2022-06-22T08:06:06.182684Z"
    }
   },
   "outputs": [
    {
     "name": "stdout",
     "output_type": "stream",
     "text": [
      "['foo', 'bar', 'baz', 'qux']\n"
     ]
    }
   ],
   "source": [
    "a = ['foo', 'bar', 'baz', 'qux']\n",
    "print(a)"
   ]
  },
  {
   "cell_type": "markdown",
   "id": "7af84569",
   "metadata": {},
   "source": [
    "The important characteristics of Python lists are as follows:\n",
    "\n",
    "- Lists are ordered.\n",
    "- Lists can contain any arbitrary objects.\n",
    "- List elements can be accessed by index.\n",
    "- Lists can be nested to arbitrary depth.\n",
    "- Lists are mutable.\n",
    "- Lists are dynamic.\n",
    "\n",
    "\n",
    "Each of these features is examined in more detail below."
   ]
  },
  {
   "cell_type": "markdown",
   "id": "5777b2df",
   "metadata": {},
   "source": [
    "**Lists Are Ordered**\n",
    "\n",
    "A list is not merely a collection of objects. It is an ordered collection of objects. The order in which you specify the elements when you define a list is an innate characteristic of that list and is maintained for that list’s lifetime. \n"
   ]
  },
  {
   "cell_type": "code",
   "execution_count": 144,
   "id": "63be3891",
   "metadata": {
    "ExecuteTime": {
     "end_time": "2022-06-22T08:07:36.213133Z",
     "start_time": "2022-06-22T08:07:36.207100Z"
    }
   },
   "outputs": [
    {
     "data": {
      "text/plain": [
       "False"
      ]
     },
     "execution_count": 144,
     "metadata": {},
     "output_type": "execute_result"
    }
   ],
   "source": [
    "[1, 2, 3, 4] == [4, 1, 3, 2]"
   ]
  },
  {
   "cell_type": "markdown",
   "id": "f866bb76",
   "metadata": {},
   "source": [
    "**Lists Can Contain Arbitrary Objects**\n"
   ]
  },
  {
   "cell_type": "code",
   "execution_count": 148,
   "id": "cbeabda8",
   "metadata": {
    "ExecuteTime": {
     "end_time": "2022-06-22T08:09:48.745427Z",
     "start_time": "2022-06-22T08:09:48.741292Z"
    }
   },
   "outputs": [],
   "source": [
    "a = [2, 4, 6, 8]\n",
    "b = [21.42, 'foobar', 3, 4, 'bark', False, 3.14159]\n",
    "a = [int, len, a, b]"
   ]
  },
  {
   "cell_type": "code",
   "execution_count": 149,
   "id": "66dc2dd1",
   "metadata": {
    "ExecuteTime": {
     "end_time": "2022-06-22T08:09:51.172515Z",
     "start_time": "2022-06-22T08:09:51.164657Z"
    }
   },
   "outputs": [
    {
     "data": {
      "text/plain": [
       "[int,\n",
       " <function len(obj, /)>,\n",
       " [2, 4, 6, 8],\n",
       " [21.42, 'foobar', 3, 4, 'bark', False, 3.14159]]"
      ]
     },
     "execution_count": 149,
     "metadata": {},
     "output_type": "execute_result"
    }
   ],
   "source": [
    "a"
   ]
  },
  {
   "cell_type": "markdown",
   "id": "b4920f0d",
   "metadata": {},
   "source": [
    "### List Indexing \n"
   ]
  },
  {
   "cell_type": "code",
   "execution_count": 2,
   "id": "7f4c5dc8",
   "metadata": {
    "ExecuteTime": {
     "end_time": "2022-06-22T08:21:46.542509Z",
     "start_time": "2022-06-22T08:21:46.537078Z"
    }
   },
   "outputs": [],
   "source": [
    "a = ['foo', 'bar', 'baz', 'qux', 'quux', 'corge']"
   ]
  },
  {
   "cell_type": "markdown",
   "id": "4a52b6e4",
   "metadata": {},
   "source": [
    "<img src=\"resources/21.png\"></img>"
   ]
  },
  {
   "cell_type": "markdown",
   "id": "e112e61d",
   "metadata": {},
   "source": [
    "```The len(), min(), and max()``` functions:"
   ]
  },
  {
   "cell_type": "code",
   "execution_count": 3,
   "id": "00b0496e",
   "metadata": {
    "ExecuteTime": {
     "end_time": "2022-06-22T08:21:48.241276Z",
     "start_time": "2022-06-22T08:21:48.226012Z"
    }
   },
   "outputs": [
    {
     "data": {
      "text/plain": [
       "6"
      ]
     },
     "execution_count": 3,
     "metadata": {},
     "output_type": "execute_result"
    }
   ],
   "source": [
    "len(a)"
   ]
  },
  {
   "cell_type": "code",
   "execution_count": 4,
   "id": "5d1b0df6",
   "metadata": {
    "ExecuteTime": {
     "end_time": "2022-06-22T08:21:51.413849Z",
     "start_time": "2022-06-22T08:21:51.407568Z"
    }
   },
   "outputs": [
    {
     "data": {
      "text/plain": [
       "'bar'"
      ]
     },
     "execution_count": 4,
     "metadata": {},
     "output_type": "execute_result"
    }
   ],
   "source": [
    "min(a)"
   ]
  },
  {
   "cell_type": "code",
   "execution_count": 5,
   "id": "b5ecb0f7",
   "metadata": {
    "ExecuteTime": {
     "end_time": "2022-06-22T08:21:54.384248Z",
     "start_time": "2022-06-22T08:21:54.378466Z"
    }
   },
   "outputs": [
    {
     "data": {
      "text/plain": [
       "'qux'"
      ]
     },
     "execution_count": 5,
     "metadata": {},
     "output_type": "execute_result"
    }
   ],
   "source": [
    "max(a)"
   ]
  },
  {
   "cell_type": "code",
   "execution_count": 1,
   "id": "950be5ce",
   "metadata": {
    "ExecuteTime": {
     "end_time": "2022-06-25T23:58:10.099716Z",
     "start_time": "2022-06-25T23:58:10.080563Z"
    }
   },
   "outputs": [
    {
     "name": "stdout",
     "output_type": "stream",
     "text": [
      "['orange', 'kiwi', 'melon']\n"
     ]
    }
   ],
   "source": [
    "thislist = [\"apple\", \"banana\", \"cherry\", \"orange\", \"kiwi\", \"melon\", \"mango\"]\n",
    "print(thislist[-4:-1])"
   ]
  },
  {
   "cell_type": "code",
   "execution_count": 6,
   "id": "cc70ed75",
   "metadata": {
    "ExecuteTime": {
     "end_time": "2022-06-22T08:22:03.668105Z",
     "start_time": "2022-06-22T08:22:03.661446Z"
    }
   },
   "outputs": [
    {
     "data": {
      "text/plain": [
       "'baz'"
      ]
     },
     "execution_count": 6,
     "metadata": {},
     "output_type": "execute_result"
    }
   ],
   "source": [
    " ['foo', 'bar', 'baz', 'qux', 'quux', 'corge'][2]"
   ]
  },
  {
   "cell_type": "code",
   "execution_count": 7,
   "id": "8d932348",
   "metadata": {
    "ExecuteTime": {
     "end_time": "2022-06-22T08:22:09.115736Z",
     "start_time": "2022-06-22T08:22:09.109699Z"
    }
   },
   "outputs": [
    {
     "data": {
      "text/plain": [
       "['corge', 'quux', 'qux', 'baz', 'bar', 'foo']"
      ]
     },
     "execution_count": 7,
     "metadata": {},
     "output_type": "execute_result"
    }
   ],
   "source": [
    "## The syntax for reversing a list works the same way it does for strings:\n",
    "\n",
    "['foo', 'bar', 'baz', 'qux', 'quux', 'corge'][::-1]"
   ]
  },
  {
   "cell_type": "code",
   "execution_count": 8,
   "id": "b4aa5277",
   "metadata": {
    "ExecuteTime": {
     "end_time": "2022-06-22T08:22:16.862265Z",
     "start_time": "2022-06-22T08:22:16.855654Z"
    }
   },
   "outputs": [
    {
     "data": {
      "text/plain": [
       "True"
      ]
     },
     "execution_count": 8,
     "metadata": {},
     "output_type": "execute_result"
    }
   ],
   "source": [
    "# check the data exists in list\n",
    "'quux' in ['foo', 'bar', 'baz', 'qux', 'quux', 'corge']"
   ]
  },
  {
   "cell_type": "code",
   "execution_count": 9,
   "id": "25219c6a",
   "metadata": {
    "ExecuteTime": {
     "end_time": "2022-06-22T08:22:22.312453Z",
     "start_time": "2022-06-22T08:22:22.305640Z"
    }
   },
   "outputs": [
    {
     "data": {
      "text/plain": [
       "['foo', 'bar', 'baz', 'qux', 'quux', 'corge']"
      ]
     },
     "execution_count": 9,
     "metadata": {},
     "output_type": "execute_result"
    }
   ],
   "source": [
    "# List concatenation \n",
    "['foo', 'bar', 'baz'] + ['qux', 'quux', 'corge']"
   ]
  },
  {
   "cell_type": "code",
   "execution_count": 10,
   "id": "b73cc2d5",
   "metadata": {
    "ExecuteTime": {
     "end_time": "2022-06-22T08:22:32.912308Z",
     "start_time": "2022-06-22T08:22:32.904725Z"
    }
   },
   "outputs": [
    {
     "data": {
      "text/plain": [
       "6"
      ]
     },
     "execution_count": 10,
     "metadata": {},
     "output_type": "execute_result"
    }
   ],
   "source": [
    "len(['foo', 'bar', 'baz', 'qux', 'quux', 'corge'][::-1])"
   ]
  },
  {
   "cell_type": "markdown",
   "id": "bd253b25",
   "metadata": {},
   "source": [
    "### Lists Can Be Nested"
   ]
  },
  {
   "cell_type": "code",
   "execution_count": 11,
   "id": "55a8ef32",
   "metadata": {
    "ExecuteTime": {
     "end_time": "2022-06-22T08:23:01.420877Z",
     "start_time": "2022-06-22T08:23:01.413023Z"
    }
   },
   "outputs": [
    {
     "data": {
      "text/plain": [
       "['a', ['bb', ['ccc', 'ddd'], 'ee', 'ff'], 'g', ['hh', 'ii'], 'j']"
      ]
     },
     "execution_count": 11,
     "metadata": {},
     "output_type": "execute_result"
    }
   ],
   "source": [
    "x = ['a', ['bb', ['ccc', 'ddd'], 'ee', 'ff'], 'g', ['hh', 'ii'], 'j']\n",
    "x"
   ]
  },
  {
   "cell_type": "markdown",
   "id": "8de2cac7",
   "metadata": {
    "ExecuteTime": {
     "end_time": "2022-06-22T08:23:44.440001Z",
     "start_time": "2022-06-22T08:23:44.434087Z"
    }
   },
   "source": [
    "<img src=\"resources/22.webp\"></img>"
   ]
  },
  {
   "cell_type": "code",
   "execution_count": 14,
   "id": "a2008877",
   "metadata": {
    "ExecuteTime": {
     "end_time": "2022-06-22T08:24:34.537071Z",
     "start_time": "2022-06-22T08:24:34.530913Z"
    }
   },
   "outputs": [
    {
     "data": {
      "text/plain": [
       "False"
      ]
     },
     "execution_count": 14,
     "metadata": {},
     "output_type": "execute_result"
    }
   ],
   "source": [
    "'ddd' in x"
   ]
  },
  {
   "cell_type": "code",
   "execution_count": 15,
   "id": "45358307",
   "metadata": {
    "ExecuteTime": {
     "end_time": "2022-06-22T08:24:41.995632Z",
     "start_time": "2022-06-22T08:24:41.989219Z"
    }
   },
   "outputs": [
    {
     "data": {
      "text/plain": [
       "False"
      ]
     },
     "execution_count": 15,
     "metadata": {},
     "output_type": "execute_result"
    }
   ],
   "source": [
    "'ddd' in x[1]"
   ]
  },
  {
   "cell_type": "code",
   "execution_count": 16,
   "id": "3b1f89c0",
   "metadata": {
    "ExecuteTime": {
     "end_time": "2022-06-22T08:24:47.761879Z",
     "start_time": "2022-06-22T08:24:47.756475Z"
    }
   },
   "outputs": [
    {
     "data": {
      "text/plain": [
       "True"
      ]
     },
     "execution_count": 16,
     "metadata": {},
     "output_type": "execute_result"
    }
   ],
   "source": [
    "'ddd' in x[1][1]"
   ]
  },
  {
   "cell_type": "markdown",
   "id": "045b032a",
   "metadata": {},
   "source": [
    "### Lists Are Mutable\n"
   ]
  },
  {
   "cell_type": "markdown",
   "id": "779d3c2f",
   "metadata": {},
   "source": [
    "Modifying a Single List Value\n"
   ]
  },
  {
   "cell_type": "code",
   "execution_count": 17,
   "id": "5315e63e",
   "metadata": {
    "ExecuteTime": {
     "end_time": "2022-06-22T08:47:20.973941Z",
     "start_time": "2022-06-22T08:47:20.971921Z"
    }
   },
   "outputs": [],
   "source": [
    "a = ['foo', 'bar', 'baz', 'qux', 'quux', 'corge']\n",
    "\n",
    "a[2] = 10\n",
    "a[-1] = 20"
   ]
  },
  {
   "cell_type": "code",
   "execution_count": null,
   "id": "cd87243a",
   "metadata": {},
   "outputs": [],
   "source": [
    "a"
   ]
  },
  {
   "cell_type": "markdown",
   "id": "6b6152a5",
   "metadata": {},
   "source": [
    "### Modifying list"
   ]
  },
  {
   "cell_type": "markdown",
   "id": "37e0e6cf",
   "metadata": {},
   "source": [
    "A list item can be deleted with the del command."
   ]
  },
  {
   "cell_type": "code",
   "execution_count": 18,
   "id": "fe79f58a",
   "metadata": {
    "ExecuteTime": {
     "end_time": "2022-06-22T08:52:01.267006Z",
     "start_time": "2022-06-22T08:52:01.263965Z"
    }
   },
   "outputs": [],
   "source": [
    "a = ['foo', 'bar', 'baz', 'qux', 'quux', 'corge']\n",
    "del a[3]"
   ]
  },
  {
   "cell_type": "code",
   "execution_count": 19,
   "id": "71783e1d",
   "metadata": {
    "ExecuteTime": {
     "end_time": "2022-06-22T08:52:03.672400Z",
     "start_time": "2022-06-22T08:52:03.669684Z"
    }
   },
   "outputs": [
    {
     "data": {
      "text/plain": [
       "['foo', 'bar', 'baz', 'quux', 'corge']"
      ]
     },
     "execution_count": 19,
     "metadata": {},
     "output_type": "execute_result"
    }
   ],
   "source": [
    "a"
   ]
  },
  {
   "cell_type": "markdown",
   "id": "4c2b5d5a",
   "metadata": {},
   "source": [
    "Modifying Multiple List Values"
   ]
  },
  {
   "cell_type": "code",
   "execution_count": 20,
   "id": "ba656e97",
   "metadata": {
    "ExecuteTime": {
     "end_time": "2022-06-22T08:54:26.813863Z",
     "start_time": "2022-06-22T08:54:26.811318Z"
    }
   },
   "outputs": [
    {
     "data": {
      "text/plain": [
       "['bar', 'baz', 'qux']"
      ]
     },
     "execution_count": 20,
     "metadata": {},
     "output_type": "execute_result"
    }
   ],
   "source": [
    "a = ['foo', 'bar', 'baz', 'qux', 'quux', 'corge']\n",
    "a[1:4]"
   ]
  },
  {
   "cell_type": "code",
   "execution_count": 21,
   "id": "906c530c",
   "metadata": {
    "ExecuteTime": {
     "end_time": "2022-06-22T08:54:33.147400Z",
     "start_time": "2022-06-22T08:54:33.144886Z"
    }
   },
   "outputs": [
    {
     "data": {
      "text/plain": [
       "['foo', 1.1, 2.2, 3.3, 4.4, 5.5, 'quux', 'corge']"
      ]
     },
     "execution_count": 21,
     "metadata": {},
     "output_type": "execute_result"
    }
   ],
   "source": [
    "a[1:4] = [1.1, 2.2, 3.3, 4.4, 5.5]\n",
    "a"
   ]
  },
  {
   "cell_type": "code",
   "execution_count": 22,
   "id": "7b14a432",
   "metadata": {
    "ExecuteTime": {
     "end_time": "2022-06-22T08:54:52.197154Z",
     "start_time": "2022-06-22T08:54:52.194758Z"
    }
   },
   "outputs": [
    {
     "data": {
      "text/plain": [
       "[1.1, 2.2, 3.3, 4.4, 5.5]"
      ]
     },
     "execution_count": 22,
     "metadata": {},
     "output_type": "execute_result"
    }
   ],
   "source": [
    "a[1:6]"
   ]
  },
  {
   "cell_type": "code",
   "execution_count": 23,
   "id": "0d60829a",
   "metadata": {
    "ExecuteTime": {
     "end_time": "2022-06-22T08:55:08.992529Z",
     "start_time": "2022-06-22T08:55:08.988321Z"
    }
   },
   "outputs": [
    {
     "data": {
      "text/plain": [
       "['foo', 'Bark!', 'quux', 'corge']"
      ]
     },
     "execution_count": 23,
     "metadata": {},
     "output_type": "execute_result"
    }
   ],
   "source": [
    "a[1:6] = ['Bark!']\n",
    "a"
   ]
  },
  {
   "cell_type": "markdown",
   "id": "0af1a764",
   "metadata": {},
   "source": [
    "### Prepending or Appending Items to a List"
   ]
  },
  {
   "cell_type": "markdown",
   "id": "1962ce8d",
   "metadata": {},
   "source": [
    "Additional items can be added to the start or end of a list using the + concatenation operator \n",
    "or the += augmented assignment operator."
   ]
  },
  {
   "cell_type": "code",
   "execution_count": 24,
   "id": "99bd468a",
   "metadata": {
    "ExecuteTime": {
     "end_time": "2022-06-22T08:55:58.991881Z",
     "start_time": "2022-06-22T08:55:58.986574Z"
    }
   },
   "outputs": [
    {
     "name": "stdout",
     "output_type": "stream",
     "text": [
      "['foo', 'bar', 'baz', 'qux', 'quux', 'corge', 'grault', 'garply']\n",
      "[10, 20, 'foo', 'bar', 'baz', 'qux', 'quux', 'corge']\n"
     ]
    }
   ],
   "source": [
    "a = ['foo', 'bar', 'baz', 'qux', 'quux', 'corge']\n",
    "\n",
    "a += ['grault', 'garply']\n",
    "print(a)\n",
    "\n",
    "\n",
    "a = ['foo', 'bar', 'baz', 'qux', 'quux', 'corge']\n",
    "\n",
    "a = [10, 20] + a\n",
    "print(a)"
   ]
  },
  {
   "cell_type": "markdown",
   "id": "21104837",
   "metadata": {},
   "source": [
    "Note that a list must be concatenated with another list, so if you want to add only one element, you need to specify it as a singleton list:\n",
    "\n"
   ]
  },
  {
   "cell_type": "code",
   "execution_count": 25,
   "id": "9a4e18c7",
   "metadata": {
    "ExecuteTime": {
     "end_time": "2022-06-22T08:58:01.497826Z",
     "start_time": "2022-06-22T08:58:01.493582Z"
    }
   },
   "outputs": [
    {
     "ename": "TypeError",
     "evalue": "'int' object is not iterable",
     "output_type": "error",
     "traceback": [
      "\u001b[0;31m---------------------------------------------------------------------------\u001b[0m",
      "\u001b[0;31mTypeError\u001b[0m                                 Traceback (most recent call last)",
      "\u001b[0;32m/tmp/ipykernel_48399/1265457535.py\u001b[0m in \u001b[0;36m<module>\u001b[0;34m\u001b[0m\n\u001b[1;32m      1\u001b[0m \u001b[0ma\u001b[0m \u001b[0;34m=\u001b[0m \u001b[0;34m[\u001b[0m\u001b[0;34m'foo'\u001b[0m\u001b[0;34m,\u001b[0m \u001b[0;34m'bar'\u001b[0m\u001b[0;34m,\u001b[0m \u001b[0;34m'baz'\u001b[0m\u001b[0;34m,\u001b[0m \u001b[0;34m'qux'\u001b[0m\u001b[0;34m,\u001b[0m \u001b[0;34m'quux'\u001b[0m\u001b[0;34m,\u001b[0m \u001b[0;34m'corge'\u001b[0m\u001b[0;34m]\u001b[0m\u001b[0;34m\u001b[0m\u001b[0m\n\u001b[0;32m----> 2\u001b[0;31m \u001b[0ma\u001b[0m \u001b[0;34m+=\u001b[0m \u001b[0;36m20\u001b[0m\u001b[0;34m\u001b[0m\u001b[0m\n\u001b[0m",
      "\u001b[0;31mTypeError\u001b[0m: 'int' object is not iterable"
     ]
    }
   ],
   "source": [
    "a = ['foo', 'bar', 'baz', 'qux', 'quux', 'corge']\n",
    "a += 20"
   ]
  },
  {
   "cell_type": "code",
   "execution_count": 26,
   "id": "5444403d",
   "metadata": {
    "ExecuteTime": {
     "end_time": "2022-06-22T08:58:09.458550Z",
     "start_time": "2022-06-22T08:58:09.456659Z"
    }
   },
   "outputs": [],
   "source": [
    "a += [20]"
   ]
  },
  {
   "cell_type": "markdown",
   "id": "e2f1dc34",
   "metadata": {},
   "source": [
    "###  Methods That Modify a List\n",
    "\n",
    "```a.append(<obj>)```\n"
   ]
  },
  {
   "cell_type": "code",
   "execution_count": 28,
   "id": "c45ad324",
   "metadata": {
    "ExecuteTime": {
     "end_time": "2022-06-22T08:59:23.827948Z",
     "start_time": "2022-06-22T08:59:23.822949Z"
    }
   },
   "outputs": [
    {
     "data": {
      "text/plain": [
       "['a', 'b', 123]"
      ]
     },
     "execution_count": 28,
     "metadata": {},
     "output_type": "execute_result"
    }
   ],
   "source": [
    "a = ['a', 'b']\n",
    "a.append(123)\n",
    "a"
   ]
  },
  {
   "cell_type": "code",
   "execution_count": 29,
   "id": "2de5a9ce",
   "metadata": {
    "ExecuteTime": {
     "end_time": "2022-06-22T08:59:40.842556Z",
     "start_time": "2022-06-22T08:59:40.837182Z"
    }
   },
   "outputs": [
    {
     "data": {
      "text/plain": [
       "['a', 'b', 1, 2, 3]"
      ]
     },
     "execution_count": 29,
     "metadata": {},
     "output_type": "execute_result"
    }
   ],
   "source": [
    "a = ['a', 'b']\n",
    "a + [1, 2, 3]"
   ]
  },
  {
   "cell_type": "code",
   "execution_count": 32,
   "id": "f74d7a66",
   "metadata": {
    "ExecuteTime": {
     "end_time": "2022-06-22T08:59:56.735590Z",
     "start_time": "2022-06-22T08:59:56.730713Z"
    }
   },
   "outputs": [
    {
     "data": {
      "text/plain": [
       "['a', 'b', [1, 2, 3]]"
      ]
     },
     "execution_count": 32,
     "metadata": {},
     "output_type": "execute_result"
    }
   ],
   "source": [
    "a = ['a', 'b']\n",
    "a.append([1, 2, 3])\n",
    "a"
   ]
  },
  {
   "cell_type": "markdown",
   "id": "e0cb8a70",
   "metadata": {},
   "source": [
    "```a.extend(<iterable>)``` : Extends a list with the objects from an iterable.\n",
    "\n"
   ]
  },
  {
   "cell_type": "code",
   "execution_count": 34,
   "id": "102a0909",
   "metadata": {
    "ExecuteTime": {
     "end_time": "2022-06-22T09:00:59.183299Z",
     "start_time": "2022-06-22T09:00:59.180155Z"
    }
   },
   "outputs": [
    {
     "data": {
      "text/plain": [
       "['a', 'b', 1, 2, 3]"
      ]
     },
     "execution_count": 34,
     "metadata": {},
     "output_type": "execute_result"
    }
   ],
   "source": [
    "a = ['a', 'b']\n",
    "a.extend([1, 2, 3])\n",
    "a"
   ]
  },
  {
   "cell_type": "markdown",
   "id": "5d6a6d0e",
   "metadata": {},
   "source": [
    "```a.insert(<index>, <obj>)``` : Inserts an object into a list.\n",
    "\n"
   ]
  },
  {
   "cell_type": "code",
   "execution_count": 37,
   "id": "8e6ff9c3",
   "metadata": {
    "ExecuteTime": {
     "end_time": "2022-06-22T09:03:09.030636Z",
     "start_time": "2022-06-22T09:03:09.027544Z"
    }
   },
   "outputs": [
    {
     "data": {
      "text/plain": [
       "3.14159"
      ]
     },
     "execution_count": 37,
     "metadata": {},
     "output_type": "execute_result"
    }
   ],
   "source": [
    "a = ['foo', 'bar', 'baz', 'qux', 'quux', 'corge']\n",
    "a.insert(3, 3.14159)\n",
    "a[3]"
   ]
  },
  {
   "cell_type": "markdown",
   "id": "1dad99e2",
   "metadata": {},
   "source": [
    "```a.remove(<obj>)``` : Removes an object from a list."
   ]
  },
  {
   "cell_type": "code",
   "execution_count": 39,
   "id": "7c7c2cdd",
   "metadata": {
    "ExecuteTime": {
     "end_time": "2022-06-22T09:03:48.670739Z",
     "start_time": "2022-06-22T09:03:48.667991Z"
    }
   },
   "outputs": [
    {
     "data": {
      "text/plain": [
       "['foo', 'bar', 'qux', 'quux', 'corge']"
      ]
     },
     "execution_count": 39,
     "metadata": {},
     "output_type": "execute_result"
    }
   ],
   "source": [
    "a = ['foo', 'bar', 'baz', 'qux', 'quux', 'corge']\n",
    "a.remove('baz')\n",
    "a"
   ]
  },
  {
   "cell_type": "code",
   "execution_count": 40,
   "id": "87be813e",
   "metadata": {
    "ExecuteTime": {
     "end_time": "2022-06-22T09:03:55.627072Z",
     "start_time": "2022-06-22T09:03:55.623393Z"
    }
   },
   "outputs": [
    {
     "ename": "ValueError",
     "evalue": "list.remove(x): x not in list",
     "output_type": "error",
     "traceback": [
      "\u001b[0;31m---------------------------------------------------------------------------\u001b[0m",
      "\u001b[0;31mValueError\u001b[0m                                Traceback (most recent call last)",
      "\u001b[0;32m/tmp/ipykernel_48399/4059992866.py\u001b[0m in \u001b[0;36m<module>\u001b[0;34m\u001b[0m\n\u001b[0;32m----> 1\u001b[0;31m \u001b[0ma\u001b[0m\u001b[0;34m.\u001b[0m\u001b[0mremove\u001b[0m\u001b[0;34m(\u001b[0m\u001b[0;34m'Bark!'\u001b[0m\u001b[0;34m)\u001b[0m\u001b[0;34m\u001b[0m\u001b[0m\n\u001b[0m",
      "\u001b[0;31mValueError\u001b[0m: list.remove(x): x not in list"
     ]
    }
   ],
   "source": [
    "a.remove('Bark!')"
   ]
  },
  {
   "cell_type": "markdown",
   "id": "a78e4b7e",
   "metadata": {},
   "source": [
    "```a.pop(index=-1)``` : Removes an element from a list."
   ]
  },
  {
   "cell_type": "code",
   "execution_count": 41,
   "id": "5d4c05fd",
   "metadata": {
    "ExecuteTime": {
     "end_time": "2022-06-22T09:07:58.322567Z",
     "start_time": "2022-06-22T09:07:58.319780Z"
    }
   },
   "outputs": [
    {
     "data": {
      "text/plain": [
       "'corge'"
      ]
     },
     "execution_count": 41,
     "metadata": {},
     "output_type": "execute_result"
    }
   ],
   "source": [
    "a = ['foo', 'bar', 'baz', 'qux', 'quux', 'corge']\n",
    "a.pop()"
   ]
  },
  {
   "cell_type": "code",
   "execution_count": 42,
   "id": "1449ac44",
   "metadata": {
    "ExecuteTime": {
     "end_time": "2022-06-22T09:08:03.575359Z",
     "start_time": "2022-06-22T09:08:03.572583Z"
    }
   },
   "outputs": [
    {
     "data": {
      "text/plain": [
       "['foo', 'bar', 'baz', 'qux', 'quux']"
      ]
     },
     "execution_count": 42,
     "metadata": {},
     "output_type": "execute_result"
    }
   ],
   "source": [
    "a"
   ]
  },
  {
   "cell_type": "code",
   "execution_count": 43,
   "id": "b1c8f2fa",
   "metadata": {
    "ExecuteTime": {
     "end_time": "2022-06-22T09:08:16.988254Z",
     "start_time": "2022-06-22T09:08:16.985480Z"
    }
   },
   "outputs": [
    {
     "data": {
      "text/plain": [
       "['foo', 'bar', 'baz', 'qux']"
      ]
     },
     "execution_count": 43,
     "metadata": {},
     "output_type": "execute_result"
    }
   ],
   "source": [
    "a.pop()\n",
    "a"
   ]
  },
  {
   "cell_type": "code",
   "execution_count": 44,
   "id": "b7d98866",
   "metadata": {
    "ExecuteTime": {
     "end_time": "2022-06-22T09:09:33.443922Z",
     "start_time": "2022-06-22T09:09:33.439189Z"
    }
   },
   "outputs": [
    {
     "data": {
      "text/plain": [
       "['foo', 'bar', 'baz', 'qux', 'quux', 'corge']"
      ]
     },
     "execution_count": 44,
     "metadata": {},
     "output_type": "execute_result"
    }
   ],
   "source": [
    "a = ['foo', 'bar', 'baz', 'qux', 'quux', 'corge']\n",
    "a"
   ]
  },
  {
   "cell_type": "markdown",
   "id": "2ad9b525",
   "metadata": {},
   "source": [
    "If the optional <index> parameter is specified, the item at that index is removed and returned. <index> may be negative, as with string and list indexing:"
   ]
  },
  {
   "cell_type": "code",
   "execution_count": 48,
   "id": "6a8cc409",
   "metadata": {
    "ExecuteTime": {
     "end_time": "2022-06-22T09:10:42.362157Z",
     "start_time": "2022-06-22T09:10:42.358916Z"
    }
   },
   "outputs": [
    {
     "data": {
      "text/plain": [
       "'bar'"
      ]
     },
     "execution_count": 48,
     "metadata": {},
     "output_type": "execute_result"
    }
   ],
   "source": [
    "a = ['foo', 'bar', 'baz', 'qux', 'quux', 'corge']\n",
    "a.pop(1)"
   ]
  },
  {
   "cell_type": "code",
   "execution_count": 49,
   "id": "c7a3004e",
   "metadata": {
    "ExecuteTime": {
     "end_time": "2022-06-22T09:10:44.566489Z",
     "start_time": "2022-06-22T09:10:44.563992Z"
    }
   },
   "outputs": [
    {
     "data": {
      "text/plain": [
       "['foo', 'baz', 'qux', 'quux', 'corge']"
      ]
     },
     "execution_count": 49,
     "metadata": {},
     "output_type": "execute_result"
    }
   ],
   "source": [
    "a"
   ]
  },
  {
   "cell_type": "code",
   "execution_count": 50,
   "id": "8d2c621c",
   "metadata": {
    "ExecuteTime": {
     "end_time": "2022-06-22T09:10:45.972215Z",
     "start_time": "2022-06-22T09:10:45.966743Z"
    }
   },
   "outputs": [
    {
     "data": {
      "text/plain": [
       "'qux'"
      ]
     },
     "execution_count": 50,
     "metadata": {},
     "output_type": "execute_result"
    }
   ],
   "source": [
    "a.pop(-3)"
   ]
  },
  {
   "cell_type": "code",
   "execution_count": 51,
   "id": "a4706ede",
   "metadata": {
    "ExecuteTime": {
     "end_time": "2022-06-22T09:10:46.470760Z",
     "start_time": "2022-06-22T09:10:46.466579Z"
    }
   },
   "outputs": [
    {
     "data": {
      "text/plain": [
       "['foo', 'baz', 'quux', 'corge']"
      ]
     },
     "execution_count": 51,
     "metadata": {},
     "output_type": "execute_result"
    }
   ],
   "source": [
    "a"
   ]
  },
  {
   "cell_type": "markdown",
   "id": "d9462c70",
   "metadata": {},
   "source": [
    "### Lists Are Dynamic"
   ]
  },
  {
   "cell_type": "code",
   "execution_count": 52,
   "id": "e61bf780",
   "metadata": {
    "ExecuteTime": {
     "end_time": "2022-06-22T09:16:38.424719Z",
     "start_time": "2022-06-22T09:16:38.421894Z"
    }
   },
   "outputs": [
    {
     "data": {
      "text/plain": [
       "['foo', 'bar', 1, 2, 3, 'baz', 'qux', 'quux', 'corge', 3.14159]"
      ]
     },
     "execution_count": 52,
     "metadata": {},
     "output_type": "execute_result"
    }
   ],
   "source": [
    "a = ['foo', 'bar', 'baz', 'qux', 'quux', 'corge']\n",
    "a[2:2] = [1, 2, 3]\n",
    "a += [3.14159]\n",
    "a"
   ]
  },
  {
   "cell_type": "markdown",
   "id": "31ae79ef",
   "metadata": {},
   "source": [
    "Similarly, a list shrinks to accommodate the removal of items:\n",
    "\n"
   ]
  },
  {
   "cell_type": "code",
   "execution_count": 53,
   "id": "0eb9a4a2",
   "metadata": {
    "ExecuteTime": {
     "end_time": "2022-06-22T09:17:15.038530Z",
     "start_time": "2022-06-22T09:17:15.035395Z"
    }
   },
   "outputs": [
    {
     "data": {
      "text/plain": [
       "['bar', 'qux', 'quux', 'corge']"
      ]
     },
     "execution_count": 53,
     "metadata": {},
     "output_type": "execute_result"
    }
   ],
   "source": [
    "a = ['foo', 'bar', 'baz', 'qux', 'quux', 'corge']\n",
    "a[2:3] = []\n",
    "del a[0]\n",
    "a"
   ]
  },
  {
   "cell_type": "markdown",
   "id": "36fc7145",
   "metadata": {},
   "source": [
    "## Python For Loops\n",
    "\n",
    "For loop is used to iterate a iterable"
   ]
  },
  {
   "cell_type": "markdown",
   "id": "52bfbc78",
   "metadata": {},
   "source": [
    "```\n",
    "# Syntax\n",
    "for var in iterable:\n",
    "    # statements\n",
    "```"
   ]
  },
  {
   "cell_type": "code",
   "execution_count": 9,
   "id": "1955355c",
   "metadata": {
    "ExecuteTime": {
     "end_time": "2022-06-26T05:01:36.683664Z",
     "start_time": "2022-06-26T05:01:36.680296Z"
    }
   },
   "outputs": [
    {
     "name": "stdout",
     "output_type": "stream",
     "text": [
      "List Iteration\n",
      "geeks\n",
      "for\n",
      "geeks\n"
     ]
    }
   ],
   "source": [
    "# examp,e\n",
    "print(\"List Iteration\")\n",
    "l = [\"geeks\", \"for\", \"geeks\"]\n",
    "for i in l:\n",
    "    print(i)"
   ]
  },
  {
   "cell_type": "code",
   "execution_count": 10,
   "id": "9e33cae1",
   "metadata": {
    "ExecuteTime": {
     "end_time": "2022-06-26T05:01:56.100952Z",
     "start_time": "2022-06-26T05:01:56.097951Z"
    }
   },
   "outputs": [
    {
     "name": "stdout",
     "output_type": "stream",
     "text": [
      "\n",
      "String Iteration\n",
      "G\n",
      "e\n",
      "e\n",
      "k\n",
      "s\n"
     ]
    }
   ],
   "source": [
    "# Iterating over a String\n",
    "print(\"\\nString Iteration\")\n",
    "s = \"Geeks\"\n",
    "for i in s:\n",
    "    print(i)"
   ]
  },
  {
   "cell_type": "markdown",
   "id": "904cb71a",
   "metadata": {},
   "source": [
    "### Iterables\n",
    "In Python, iterable means an object can be used in iteration. \n",
    "\n",
    "\n",
    "If an object is iterable, it can be passed to the built-in Python function **iter()**, which returns something called an iterator. "
   ]
  },
  {
   "cell_type": "code",
   "execution_count": 3,
   "id": "5d6da2f1",
   "metadata": {
    "ExecuteTime": {
     "end_time": "2022-06-26T00:13:10.387023Z",
     "start_time": "2022-06-26T00:13:10.368764Z"
    }
   },
   "outputs": [
    {
     "data": {
      "text/plain": [
       "<dict_keyiterator at 0x27c1d3087c8>"
      ]
     },
     "execution_count": 3,
     "metadata": {},
     "output_type": "execute_result"
    }
   ],
   "source": [
    "iter('foobar')                             # String\n",
    "\n",
    "iter(['foo', 'bar', 'baz'])                # List\n",
    "\n",
    "\n",
    "iter(('foo', 'bar', 'baz'))                # Tuple\n",
    "\n",
    "\n",
    "iter({'foo', 'bar', 'baz'})                # Set\n",
    "\n",
    "\n",
    "iter({'foo': 1, 'bar': 2, 'baz': 3})       # Di"
   ]
  },
  {
   "cell_type": "code",
   "execution_count": 4,
   "id": "6cb88aee",
   "metadata": {
    "ExecuteTime": {
     "end_time": "2022-06-26T00:13:54.688997Z",
     "start_time": "2022-06-26T00:13:54.464616Z"
    },
    "scrolled": true
   },
   "outputs": [
    {
     "ename": "TypeError",
     "evalue": "'int' object is not iterable",
     "output_type": "error",
     "traceback": [
      "\u001b[1;31m---------------------------------------------------------------------------\u001b[0m",
      "\u001b[1;31mTypeError\u001b[0m                                 Traceback (most recent call last)",
      "\u001b[1;32m~\\AppData\\Local\\Temp\\ipykernel_12160\\2007137216.py\u001b[0m in \u001b[0;36m<module>\u001b[1;34m\u001b[0m\n\u001b[0;32m      1\u001b[0m \u001b[1;31m## this code block will occur the error\u001b[0m\u001b[1;33m\u001b[0m\u001b[1;33m\u001b[0m\u001b[0m\n\u001b[0;32m      2\u001b[0m \u001b[1;33m\u001b[0m\u001b[0m\n\u001b[1;32m----> 3\u001b[1;33m \u001b[0miter\u001b[0m\u001b[1;33m(\u001b[0m\u001b[1;36m42\u001b[0m\u001b[1;33m)\u001b[0m                                   \u001b[1;31m# Integer\u001b[0m\u001b[1;33m\u001b[0m\u001b[0m\n\u001b[0m\u001b[0;32m      4\u001b[0m \u001b[1;33m\u001b[0m\u001b[0m\n\u001b[0;32m      5\u001b[0m \u001b[1;33m\u001b[0m\u001b[0m\n",
      "\u001b[1;31mTypeError\u001b[0m: 'int' object is not iterable"
     ]
    }
   ],
   "source": [
    "## this code block will occur the error\n",
    "\n",
    "iter(42)                                   # Integer\n",
    "\n",
    "\n",
    "iter(3.1)                                  # Float\n",
    "\n",
    "\n",
    "iter(len)                                  # Built-in function\n"
   ]
  },
  {
   "cell_type": "markdown",
   "id": "07aa1746",
   "metadata": {},
   "source": [
    "### for loop with range() function\n",
    "- start: integer starting from which the sequence of integers is to be returned\n",
    "- stop: integer before which the sequence of integers is to be returned. The range of integers end at stop – 1.\n",
    "- step: integer value which determines the increment between each integer in the sequence "
   ]
  },
  {
   "cell_type": "code",
   "execution_count": 11,
   "id": "8ddbfb0f",
   "metadata": {
    "ExecuteTime": {
     "end_time": "2022-06-26T05:02:47.073009Z",
     "start_time": "2022-06-26T05:02:47.062780Z"
    }
   },
   "outputs": [
    {
     "name": "stdout",
     "output_type": "stream",
     "text": [
      "10 20 30 40 \n",
      "Sum of first 10 numbers : 45\n"
     ]
    }
   ],
   "source": [
    "# using range for iteration\n",
    "l = [10, 20, 30, 40]\n",
    "for i in range(len(l)):\n",
    "    print(l[i], end=\" \")\n",
    "print()\n",
    " \n",
    "# performing sum of first 10 numbers\n",
    "sum = 0\n",
    "for i in range(1, 10):\n",
    "    sum = sum + i\n",
    "print(\"Sum of first 10 numbers :\", sum)"
   ]
  },
  {
   "cell_type": "markdown",
   "id": "213b04e9",
   "metadata": {},
   "source": [
    "### Altering for Loop Behavior ( break and continue )"
   ]
  },
  {
   "cell_type": "markdown",
   "id": "606b803c",
   "metadata": {},
   "source": [
    "#### Break"
   ]
  },
  {
   "cell_type": "markdown",
   "id": "34d28671",
   "metadata": {},
   "source": [
    "**break and continue** work the same way with for loops as with while loops. \n",
    "\n",
    "**break** terminates the loop completely and proceeds to the first statement following the loop:"
   ]
  },
  {
   "cell_type": "code",
   "execution_count": 12,
   "id": "793d4d07",
   "metadata": {
    "ExecuteTime": {
     "end_time": "2022-06-26T05:03:29.076892Z",
     "start_time": "2022-06-26T05:03:29.072822Z"
    }
   },
   "outputs": [
    {
     "name": "stdout",
     "output_type": "stream",
     "text": [
      "foo\n"
     ]
    }
   ],
   "source": [
    "for i in ['foo', 'bar', 'baz', 'qux']:\n",
    "    if 'b' in i:\n",
    "        break\n",
    "    print(i)"
   ]
  },
  {
   "cell_type": "markdown",
   "id": "282911c0",
   "metadata": {},
   "source": [
    "#### Continue"
   ]
  },
  {
   "cell_type": "markdown",
   "id": "924436ce",
   "metadata": {},
   "source": [
    "**continue** terminates the current iteration and proceeds to the next iteration:\n",
    "\n"
   ]
  },
  {
   "cell_type": "code",
   "execution_count": 6,
   "id": "63af1baa",
   "metadata": {
    "ExecuteTime": {
     "end_time": "2022-06-26T00:17:33.118554Z",
     "start_time": "2022-06-26T00:17:33.104787Z"
    }
   },
   "outputs": [
    {
     "name": "stdout",
     "output_type": "stream",
     "text": [
      "foo\n",
      "qux\n"
     ]
    }
   ],
   "source": [
    "for i in ['foo', 'bar', 'baz', 'qux']:\n",
    "    if 'b' in i:\n",
    "        continue\n",
    "    print(i)"
   ]
  },
  {
   "cell_type": "markdown",
   "id": "5162905a",
   "metadata": {},
   "source": [
    "#### The else clause"
   ]
  },
  {
   "cell_type": "markdown",
   "id": "98bdf6a2",
   "metadata": {
    "ExecuteTime": {
     "end_time": "2022-06-26T00:19:10.471230Z",
     "start_time": "2022-06-26T00:19:10.459966Z"
    }
   },
   "source": [
    "A for loop can have an else clause as well. The interpretation is analogous to that of a while loop. The else clause will be executed if the loop terminates through exhaustion of the iterable:"
   ]
  },
  {
   "cell_type": "code",
   "execution_count": 8,
   "id": "942dca9d",
   "metadata": {
    "ExecuteTime": {
     "end_time": "2022-06-26T00:19:27.086659Z",
     "start_time": "2022-06-26T00:19:27.067974Z"
    }
   },
   "outputs": [
    {
     "name": "stdout",
     "output_type": "stream",
     "text": [
      "foo\n",
      "bar\n",
      "baz\n",
      "qux\n",
      "Done.\n"
     ]
    }
   ],
   "source": [
    "for i in ['foo', 'bar', 'baz', 'qux']:\n",
    "    print(i)\n",
    "else:\n",
    "    print('Done.')  # Will execute"
   ]
  },
  {
   "cell_type": "code",
   "execution_count": null,
   "id": "ce07bb5c",
   "metadata": {},
   "outputs": [],
   "source": [
    "# Python program to demonstrate\n",
    "# for-else loop\n",
    " \n",
    "for i in range(1, 4):\n",
    "    print(i)\n",
    "else:  # Executed because no break in for\n",
    "    print(\"No Break\\n\")\n",
    " \n",
    "for i in range(1, 4):\n",
    "    print(i)\n",
    "    break\n",
    "else:  # Not executed as there is a break\n",
    "    print(\"No Break\")"
   ]
  },
  {
   "cell_type": "markdown",
   "id": "f338bd7f",
   "metadata": {},
   "source": [
    "#### Nested Loops"
   ]
  },
  {
   "cell_type": "markdown",
   "id": "2a1b0d4d",
   "metadata": {},
   "source": [
    "A nested loop is a loop inside a loop.\n",
    "\n",
    "The \"inner loop\" will be executed one time for each iteration of the \"outer loop\":"
   ]
  },
  {
   "cell_type": "code",
   "execution_count": 11,
   "id": "4045ea29",
   "metadata": {
    "ExecuteTime": {
     "end_time": "2022-06-26T00:21:29.988751Z",
     "start_time": "2022-06-26T00:21:29.981657Z"
    }
   },
   "outputs": [
    {
     "name": "stdout",
     "output_type": "stream",
     "text": [
      "red apple\n",
      "red banana\n",
      "red cherry\n",
      "big apple\n",
      "big banana\n",
      "big cherry\n",
      "tasty apple\n",
      "tasty banana\n",
      "tasty cherry\n"
     ]
    }
   ],
   "source": [
    "adj = [\"red\", \"big\", \"tasty\"]\n",
    "fruits = [\"apple\", \"banana\", \"cherry\"]\n",
    "\n",
    "for x in adj:\n",
    "    for y in fruits:\n",
    "        print(x, y)"
   ]
  },
  {
   "cell_type": "markdown",
   "id": "23d87750",
   "metadata": {},
   "source": [
    "#### The pass Statement\n",
    "\n",
    "for loops cannot be empty, but if you for some reason have a for loop with no content, put in the pass statement to avoid getting an error.\n"
   ]
  },
  {
   "cell_type": "code",
   "execution_count": 12,
   "id": "0057a9bf",
   "metadata": {
    "ExecuteTime": {
     "end_time": "2022-06-26T00:22:25.092053Z",
     "start_time": "2022-06-26T00:22:25.078230Z"
    }
   },
   "outputs": [],
   "source": [
    "for x in [0, 1, 2]:\n",
    "    pass"
   ]
  },
  {
   "cell_type": "code",
   "execution_count": null,
   "id": "6ede46f9",
   "metadata": {},
   "outputs": [],
   "source": []
  }
 ],
 "metadata": {
  "kernelspec": {
   "display_name": "sa_env",
   "language": "python",
   "name": "sa_env"
  },
  "language_info": {
   "codemirror_mode": {
    "name": "ipython",
    "version": 3
   },
   "file_extension": ".py",
   "mimetype": "text/x-python",
   "name": "python",
   "nbconvert_exporter": "python",
   "pygments_lexer": "ipython3",
   "version": "3.7.6"
  },
  "toc": {
   "base_numbering": 1,
   "nav_menu": {},
   "number_sections": true,
   "sideBar": true,
   "skip_h1_title": false,
   "title_cell": "Table of Contents",
   "title_sidebar": "Contents",
   "toc_cell": false,
   "toc_position": {
    "height": "calc(100% - 180px)",
    "left": "10px",
    "top": "150px",
    "width": "382px"
   },
   "toc_section_display": true,
   "toc_window_display": true
  },
  "varInspector": {
   "cols": {
    "lenName": 16,
    "lenType": 16,
    "lenVar": 40
   },
   "kernels_config": {
    "python": {
     "delete_cmd_postfix": "",
     "delete_cmd_prefix": "del ",
     "library": "var_list.py",
     "varRefreshCmd": "print(var_dic_list())"
    },
    "r": {
     "delete_cmd_postfix": ") ",
     "delete_cmd_prefix": "rm(",
     "library": "var_list.r",
     "varRefreshCmd": "cat(var_dic_list()) "
    }
   },
   "types_to_exclude": [
    "module",
    "function",
    "builtin_function_or_method",
    "instance",
    "_Feature"
   ],
   "window_display": false
  }
 },
 "nbformat": 4,
 "nbformat_minor": 5
}
