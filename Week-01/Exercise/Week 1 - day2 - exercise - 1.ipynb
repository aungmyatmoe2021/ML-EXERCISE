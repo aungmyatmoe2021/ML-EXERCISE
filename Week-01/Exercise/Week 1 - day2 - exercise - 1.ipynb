{
 "cells": [
  {
   "cell_type": "markdown",
   "id": "25febb8b",
   "metadata": {},
   "source": [
    "# Grade calculator\n",
    "\n",
    "         Marks                        Grade\n",
    "         > 90                           A\n",
    "         > 80 and <= 90                 B\n",
    "         >= 60 and <= 80                C\n",
    "         below 60                       D"
   ]
  },
  {
   "cell_type": "code",
   "execution_count": 3,
   "id": "6f9adf30",
   "metadata": {
    "ExecuteTime": {
     "end_time": "2022-06-26T01:43:27.579105Z",
     "start_time": "2022-06-26T01:43:24.858716Z"
    }
   },
   "outputs": [
    {
     "name": "stdout",
     "output_type": "stream",
     "text": [
      "Enter marks: 65\n",
      "Grade C\n"
     ]
    }
   ],
   "source": [
    "per = int(input(\"Enter marks: \"))\n",
    "# write code below\n",
    "if per > 90 :\n",
    "    print('Grade A')\n",
    "elif per > 80 and per <=90 :\n",
    "    print('Grade B')\n",
    "elif per >= 60 and per <= 80:\n",
    "    print('Grade C')\n",
    "else:\n",
    "    print('Grade D')"
   ]
  },
  {
   "cell_type": "markdown",
   "id": "828908de",
   "metadata": {},
   "source": [
    "# Calculate the remaining age\n",
    "\n",
    "Create a program using maths and f-Strings that tells us how many days, weeks, months we have left if we live until 90 years old.\n",
    "\n",
    "It will take your current age as the input and output a message with our time left in this format:\n",
    "\n",
    "You have x days, y weeks, and z months left.\n",
    "\n",
    "Where x, y and z are replaced with the actual calculated numbers."
   ]
  },
  {
   "cell_type": "code",
   "execution_count": 17,
   "id": "4c38f6fa",
   "metadata": {},
   "outputs": [
    {
     "name": "stdout",
     "output_type": "stream",
     "text": [
      "What is your current age?36\n",
      "You have 19710 days, 2808 weeks, and 648 months left.\n"
     ]
    }
   ],
   "source": [
    "age = int(input(\"What is your current age?\"))\n",
    "\n",
    "#Write your code below this line 👇\n",
    "days = 365\n",
    "months = 12\n",
    "weeks = 52\n",
    "reamin_ages = 90 - age\n",
    "remain_days = reamin_ages * days\n",
    "remain_months = reamin_ages * months\n",
    "remain_weeks = reamin_ages * weeks\n",
    "print(f'You have {remain_days} days, {remain_weeks} weeks, and {remain_months} months left.')"
   ]
  },
  {
   "cell_type": "markdown",
   "id": "fa45d51b",
   "metadata": {},
   "source": [
    "# String occurrence\n",
    "\n",
    "Write a program to find all occurrences of “USA” in a given string ignoring the case.\n",
    "\n",
    "Given \n",
    "\n",
    "```\n",
    "str1 = \"Welcome to USA. usa awesome, isn't it?\"\n",
    "```\n",
    "\n",
    "Expected Output\n",
    "\n",
    "```\n",
    "The USA count is: 2\n",
    "\n",
    "```"
   ]
  },
  {
   "cell_type": "code",
   "execution_count": 2,
   "id": "cf8f761e",
   "metadata": {},
   "outputs": [
    {
     "name": "stdout",
     "output_type": "stream",
     "text": [
      "The USA count is :  2\n"
     ]
    }
   ],
   "source": [
    "str1 = \"Welcome to USA. usa awesome, isn't it?\"\n",
    "print('The USA count is : ',str1.lower().count('usa'))"
   ]
  },
  {
   "cell_type": "markdown",
   "id": "0045d16e",
   "metadata": {
    "ExecuteTime": {
     "end_time": "2022-06-24T04:08:21.536780Z",
     "start_time": "2022-06-24T04:08:21.532034Z"
    }
   },
   "source": [
    "# Leap Year\n",
    "\n",
    "Write a program that works out whether if a given year is a leap year. A normal year has 365 days, leap years have 366, with an extra day in February. The reason why we have leap years is really fascinating, this video does it more justice:\n",
    "\n",
    "This is how you work out whether if a particular year is a leap year.\n",
    "\n",
    "on every year that is evenly divisible by 4 \n",
    "\n",
    "except every year that is evenly divisible by 100 \n",
    "\n",
    "unless the year is also evenly divisible by 400\n",
    "\n",
    "e.g. The year 2000:\n",
    "\n",
    "2000 ÷ 4 = 500 (Leap)\n",
    "\n",
    "2000 ÷ 100 = 20 (Not Leap)\n",
    "\n",
    "2000 ÷ 400 = 5 (Leap!)\n",
    "\n",
    "So the year 2000 is a leap year.\n",
    "\n",
    "But the year 2100 is not a leap year because:\n",
    "\n",
    "2100 ÷ 4 = 525 (Leap)\n",
    "\n",
    "2100 ÷ 100 = 21 (Not Leap)\n",
    "\n",
    "2100 ÷ 400 = 5.25 (Not Leap)"
   ]
  },
  {
   "cell_type": "code",
   "execution_count": 4,
   "id": "1d06f13d",
   "metadata": {
    "ExecuteTime": {
     "end_time": "2022-06-25T15:51:16.852979Z",
     "start_time": "2022-06-25T15:51:07.288279Z"
    },
    "scrolled": true
   },
   "outputs": [
    {
     "name": "stdout",
     "output_type": "stream",
     "text": [
      "Which year do you want to check? 2100\n",
      "But the year 2100 is not a leap year\n"
     ]
    }
   ],
   "source": [
    "year = int(input(\"Which year do you want to check? \"))\n",
    "if year % 4 == 0 :\n",
    "    if year % 100 == 0:\n",
    "        if year % 400 == 0:\n",
    "            print(f'So the year {year} is a leap year')\n",
    "        else:\n",
    "            print(f'But the year {year} is not a leap year')\n",
    "    else:\n",
    "        print(f'So the year {year} is a leap year')\n",
    "else:\n",
    "    print(f'But the year {year} is not a leap year')"
   ]
  },
  {
   "cell_type": "markdown",
   "id": "7cc3cc69",
   "metadata": {},
   "source": [
    "# Pizza\n",
    "\n",
    "Your  job is to build an automatic pizza order program.\n",
    "\n",
    "Based on a user's order, work out their final bill.\n",
    "\n",
    "Small Pizza: $15\n",
    "\n",
    "Medium Pizza: $20\n",
    "\n",
    "Large Pizza: $25\n",
    "\n",
    "Pepperoni for Small Pizza: +$2\n",
    "\n",
    "Pepperoni for Medium or Large Pizza: +$3\n",
    "\n",
    "Extra cheese for any size pizza: + $1"
   ]
  },
  {
   "cell_type": "code",
   "execution_count": 7,
   "id": "9e82b4be",
   "metadata": {
    "ExecuteTime": {
     "end_time": "2022-06-25T15:48:41.305464Z",
     "start_time": "2022-06-25T15:48:35.512687Z"
    }
   },
   "outputs": [
    {
     "name": "stdout",
     "output_type": "stream",
     "text": [
      "Welcome to Python Pizza Deliveries!\n",
      "What size pizza do you want? S, M, or L m\n",
      "Do you want pepperoni? Y or N n\n",
      "Do you want extra cheese? Y or N y\n",
      "Your final bill is: $21.\n"
     ]
    }
   ],
   "source": [
    "print(\"Welcome to Python Pizza Deliveries!\")\n",
    "size = input(\"What size pizza do you want? S, M, or L \").lower()\n",
    "add_pepperoni = input(\"Do you want pepperoni? Y or N \").lower()\n",
    "extra_cheese = input(\"Do you want extra cheese? Y or N \").lower()\n",
    "\n",
    "#Write your code below\n",
    "bill = 0\n",
    "condition = True\n",
    "if (extra_cheese == 'y'):\n",
    "    bill += 1\n",
    "    \n",
    "if (size == 's'):\n",
    "    bill += 15\n",
    "    if add_pepperoni == 'y':\n",
    "        bill += 2\n",
    "elif(size == 'm'):\n",
    "    bill += 20\n",
    "    if add_pepperoni == 'y':\n",
    "        bill += 3\n",
    "elif(size == 'l'):\n",
    "    bill += 25\n",
    "    if add_pepperoni == 'y':\n",
    "        bill += 3\n",
    "else:\n",
    "#     exit()\n",
    "    condition = False\n",
    "     \n",
    "if condition :        \n",
    "    print(f\"Your final bill is: ${bill}.\")\n",
    "else:\n",
    "    print('Invalid Input')"
   ]
  },
  {
   "cell_type": "markdown",
   "id": "68030207",
   "metadata": {},
   "source": [
    "# Love Calculator"
   ]
  },
  {
   "cell_type": "markdown",
   "id": "7b1fd9c2",
   "metadata": {},
   "source": [
    "You are going to write a program that tests the compatibility between two people.\n",
    "\n",
    "To work out the love score between two people:\n",
    "\n",
    "Take both people's names and check for the number of times the letters in the word TRUE occurs. \n",
    "\n",
    "Then check for the number of times the letters in the word LOVE occurs. \n",
    "\n",
    "Then combine these numbers to make a 2 digit number.\n",
    "\n",
    "For Love Scores less than 10 or greater than 90, the message should be:\n",
    "\n",
    "\"Your score is x, you go together like coke and mentos.\"\n",
    "For Love Scores between 40 and 50, the message should be:\n",
    "\n",
    "\"Your score is y, you are alright together.\"\n",
    "Otherwise, the message will just be their score. e.g.:\n",
    "\n",
    "\"Your score is z.\""
   ]
  },
  {
   "cell_type": "code",
   "execution_count": 31,
   "id": "58e37da3",
   "metadata": {},
   "outputs": [
    {
     "name": "stdout",
     "output_type": "stream",
     "text": [
      "Welcome to the Love Calculator!\n",
      "What is your name? \n",
      "Auung Myat Moe\n",
      "What is their name? \n",
      "Yee Khin Zaw\n",
      "Your score is 42, you are alright together.\n"
     ]
    }
   ],
   "source": [
    "\n",
    "print(\"Welcome to the Love Calculator!\")\n",
    "name1 = str(input(\"What is your name? \\n\").lower())\n",
    "name2 = str(input(\"What is their name? \\n\").lower())\n",
    "# write code below\n",
    "name1_count = name1.count('t') + name1.count('r') + name1.count('u') + name1.count('e')\n",
    "if len(str(name1_count)) == 2:\n",
    "    name1_count = int(str(name1_count)[0]) + int(str(name1_count)[1])\n",
    "name2_count = name2.count('l') + name2.count('o') + name2.count('v') + name2.count('e')\n",
    "if len(str(name2_count)) == 2:\n",
    "    name2_count = int(str(name2_count)[0]) + int(str(name2_count)[1])\n",
    "total_score = int(str(name1_count) + str(name2_count))\n",
    "if total_score < 10 or total_score > 90:\n",
    "    print(f'Your score is {total_score}, you go together like coke and mentos.')\n",
    "elif total_score > 40 and total_score < 50:\n",
    "    print(f'Your score is {total_score}, you are alright together.')\n",
    "else:\n",
    "    print(f'Your score is {total_score}.')"
   ]
  },
  {
   "cell_type": "markdown",
   "id": "d3e2eadd",
   "metadata": {
    "ExecuteTime": {
     "end_time": "2022-06-24T16:20:03.267987Z",
     "start_time": "2022-06-24T16:20:03.264651Z"
    }
   },
   "source": [
    "# Head or tail\n",
    "You are going to write a virtual coin toss program. It will randomly tell the user \"Heads\" or \"Tails\".\n",
    "\n",
    "There are many ways of doing this. But to practice what we learnt in the last lesson, you should generate a random number, either 0 or 1. Then use that number to print out Heads or Tails.\n",
    "\n",
    "e.g. 1 means Heads 0 means Tails\n",
    "\n",
    "Example Output\n",
    "\n",
    "Heads\n",
    "\n",
    "or\n",
    "\n",
    "Tails"
   ]
  },
  {
   "cell_type": "code",
   "execution_count": 16,
   "id": "1bc046ad",
   "metadata": {
    "ExecuteTime": {
     "end_time": "2022-06-26T01:53:06.397261Z",
     "start_time": "2022-06-26T01:53:06.389365Z"
    }
   },
   "outputs": [
    {
     "name": "stdout",
     "output_type": "stream",
     "text": [
      "Heads\n"
     ]
    }
   ],
   "source": [
    "import random\n",
    "\n",
    "# Write code below\n",
    "ran_head_tail = random.randint(0,1)\n",
    "if ran_head_tail == 0:\n",
    "    print(\"Tails\")\n",
    "else:\n",
    "    print(\"Heads\")"
   ]
  },
  {
   "cell_type": "markdown",
   "id": "24c0150b",
   "metadata": {},
   "source": [
    "# Simple list problem\n",
    "\n",
    "You have given a Python list. Write a program to find value 20 in the list, and if it is present, replace it with 200. Only update the first occurrence of an item.\n",
    "\n",
    "```\n",
    "Given list : [5, 10, 15, 20, 25, 50, 20]\n",
    "\n",
    "Expected Output :\n",
    "[5, 10, 15, 200, 25, 50, 20]\n",
    "\n",
    "\n",
    "```"
   ]
  },
  {
   "cell_type": "code",
   "execution_count": 29,
   "id": "ff610f92",
   "metadata": {
    "ExecuteTime": {
     "end_time": "2022-06-26T01:42:54.577268Z",
     "start_time": "2022-06-26T01:42:54.574648Z"
    }
   },
   "outputs": [
    {
     "name": "stdout",
     "output_type": "stream",
     "text": [
      "[5, 10, 15, 200, 25, 50, 20]\n"
     ]
    }
   ],
   "source": [
    "list1 = [5, 10, 15, 20, 25, 50, 20]\n",
    "# write code below\n",
    "for ls in range(len(list1)):\n",
    "    if list1[ls] == 20:\n",
    "        list1[ls] = 200\n",
    "        break;\n",
    "print(list1)"
   ]
  },
  {
   "cell_type": "markdown",
   "id": "4924149a",
   "metadata": {},
   "source": [
    "# Switch Exercise"
   ]
  },
  {
   "cell_type": "code",
   "execution_count": 4,
   "id": "af7ad96f",
   "metadata": {},
   "outputs": [
    {
     "name": "stdout",
     "output_type": "stream",
     "text": [
      "please input your choice:\n",
      "select\n",
      "select\n"
     ]
    }
   ],
   "source": [
    "user_cmd = input(\"please input your choice:\\n\")\n",
    "if user_cmd == \"select\":\n",
    "    ops = \"select\"\n",
    "elif user_cmd == \"update\":\n",
    "    ops = \"update\"\n",
    "elif user_cmd == \"delete\":\n",
    "    ops = \"delete\"\n",
    "elif user_cmd == \"insert\":\n",
    "    ops = \"insert\"\n",
    "else:\n",
    "    ops = \"invalid choice!\"\n",
    "print(ops)"
   ]
  },
  {
   "cell_type": "code",
   "execution_count": 7,
   "id": "04f5a637",
   "metadata": {},
   "outputs": [
    {
     "name": "stdout",
     "output_type": "stream",
     "text": [
      "please input your choice:\n",
      "select\n",
      "select\n"
     ]
    }
   ],
   "source": [
    "user_cmd = input(\"please input your choice:\\n\")\n",
    "switch = {\n",
    "    \"select\":\"select\",\n",
    "    \"update\":\"update\",\n",
    "    \"delete\":\"delete\",\n",
    "    \"insert\":\"insert\"\n",
    "}\n",
    "print(switch.get(user_cmd,\"Incorrect Input\"))"
   ]
  },
  {
   "cell_type": "markdown",
   "id": "947416a6",
   "metadata": {},
   "source": [
    "## Switch Exercise(With Function)"
   ]
  },
  {
   "cell_type": "code",
   "execution_count": 12,
   "id": "086574fa",
   "metadata": {},
   "outputs": [
    {
     "name": "stdout",
     "output_type": "stream",
     "text": [
      "wednesday\n",
      "friday\n"
     ]
    }
   ],
   "source": [
    "def monday():\n",
    "    return \"monday\"\n",
    "def tuesday():\n",
    "    return \"tuesday\"\n",
    "def wednesday():\n",
    "    return \"wednesday\"\n",
    "def thursday():\n",
    "    return \"thursday\"\n",
    "def friday():\n",
    "    return \"friday\"\n",
    "def saturday():\n",
    "    return \"saturday\"\n",
    "def sunday():\n",
    "    return \"sunday\"\n",
    "def default():\n",
    "    return \"Incorrect day\"\n",
    "\n",
    "switcher = {\n",
    "    1: monday,\n",
    "    2: tuesday,\n",
    "    3: wednesday,\n",
    "    4: thursday,\n",
    "    5: friday,\n",
    "    6: saturday,\n",
    "    7: sunday\n",
    "    }\n",
    "\n",
    "def switch(dayOfWeek):\n",
    "    return switcher.get(dayOfWeek, default)()\n",
    "\n",
    "print(switch(3))\n",
    "print(switch(5))"
   ]
  }
 ],
 "metadata": {
  "kernelspec": {
   "display_name": "python_ml",
   "language": "python",
   "name": "python_ml"
  },
  "language_info": {
   "codemirror_mode": {
    "name": "ipython",
    "version": 3
   },
   "file_extension": ".py",
   "mimetype": "text/x-python",
   "name": "python",
   "nbconvert_exporter": "python",
   "pygments_lexer": "ipython3",
   "version": "3.9.0"
  },
  "toc": {
   "base_numbering": 1,
   "nav_menu": {},
   "number_sections": true,
   "sideBar": true,
   "skip_h1_title": false,
   "title_cell": "Table of Contents",
   "title_sidebar": "Contents",
   "toc_cell": false,
   "toc_position": {
    "height": "calc(100% - 180px)",
    "left": "10px",
    "top": "150px",
    "width": "320px"
   },
   "toc_section_display": true,
   "toc_window_display": true
  }
 },
 "nbformat": 4,
 "nbformat_minor": 5
}
