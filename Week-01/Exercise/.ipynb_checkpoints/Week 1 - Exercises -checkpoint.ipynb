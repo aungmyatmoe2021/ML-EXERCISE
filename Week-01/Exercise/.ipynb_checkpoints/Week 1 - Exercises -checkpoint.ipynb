{
 "cells": [
  {
   "cell_type": "markdown",
   "id": "8d2fef1e",
   "metadata": {},
   "source": [
    "# Debugging\n",
    "Debug the below code block"
   ]
  },
  {
   "cell_type": "code",
   "execution_count": 2,
   "id": "7e906b49",
   "metadata": {
    "ExecuteTime": {
     "end_time": "2022-06-24T06:33:23.706094Z",
     "start_time": "2022-06-24T06:33:23.700209Z"
    }
   },
   "outputs": [
    {
     "name": "stdout",
     "output_type": "stream",
     "text": [
      "Day 1 - String Manipulation\n",
      "String Concatenation is done with the  sign.\n",
      "New lines can be created with a backslash and n.\n"
     ]
    }
   ],
   "source": [
    "print(\"Day 1 - String Manipulation\")\n",
    "print(\"String Concatenation is done with the \"+\" sign.\")\n",
    "print(\"New lines can be created with a backslash and n.\")"
   ]
  },
  {
   "cell_type": "markdown",
   "id": "ad84953f",
   "metadata": {},
   "source": [
    "# Input function\n",
    "Write a program that prints the number of characters in a user's name. "
   ]
  },
  {
   "cell_type": "code",
   "execution_count": 5,
   "id": "0cf90fe8",
   "metadata": {},
   "outputs": [
    {
     "name": "stdout",
     "output_type": "stream",
     "text": [
      "What is your name?Aung Myat Moe\n",
      "Aung Myat Moe\n"
     ]
    }
   ],
   "source": [
    "print(input(\"What is your name?\"))"
   ]
  },
  {
   "cell_type": "markdown",
   "id": "b4625f86",
   "metadata": {},
   "source": [
    "# Variables\n",
    "Write a program that switches the values stored in the variables a and b."
   ]
  },
  {
   "cell_type": "markdown",
   "id": "244d2fd2",
   "metadata": {},
   "source": [
    "**Hint**:\n",
    "\n",
    "You should not have to type any numbers in your code.\n",
    "\n",
    "You might need to make some more variables."
   ]
  },
  {
   "cell_type": "markdown",
   "id": "9f10833b",
   "metadata": {
    "ExecuteTime": {
     "end_time": "2022-06-24T05:01:50.863301Z",
     "start_time": "2022-06-24T05:01:50.857649Z"
    }
   },
   "source": [
    "Example Input\n",
    "\n",
    "a: 3\n",
    "\n",
    "b: 5\n",
    "    \n",
    "Example Output\n",
    "\n",
    "a: 5\n",
    "\n",
    "b: 3"
   ]
  },
  {
   "cell_type": "code",
   "execution_count": 6,
   "id": "fa8ece88",
   "metadata": {},
   "outputs": [
    {
     "name": "stdout",
     "output_type": "stream",
     "text": [
      "a: 3\n",
      "b: 5\n",
      "a: 5\n",
      "b: 3\n"
     ]
    }
   ],
   "source": [
    "a = input(\"a: \")\n",
    "b = input(\"b: \")\n",
    "# Don't change the code above \n",
    "\n",
    "\n",
    "#Write your code below this line \n",
    "temp = a\n",
    "a = b\n",
    "b = temp\n",
    "\n",
    "#  Don't change the code below \n",
    "print(\"a: \" + a)\n",
    "print(\"b: \" + b)"
   ]
  },
  {
   "cell_type": "markdown",
   "id": "afe79432",
   "metadata": {},
   "source": [
    "# Create a string made of the first, middle and last character"
   ]
  },
  {
   "cell_type": "markdown",
   "id": "992977b1",
   "metadata": {
    "ExecuteTime": {
     "end_time": "2022-06-23T15:44:57.699987Z",
     "start_time": "2022-06-23T15:44:57.691227Z"
    }
   },
   "source": [
    "Write a program to create a new string made of an input string’s first, middle, and last character.\n",
    "\n",
    "\n",
    "Given : \n",
    "\n",
    "> str1 = \"James\"\n",
    "\n",
    "\n",
    "\n",
    "Output : \n",
    "\n",
    "\n",
    "> Jms\n"
   ]
  },
  {
   "cell_type": "code",
   "execution_count": 12,
   "id": "9f72e9a8",
   "metadata": {},
   "outputs": [
    {
     "name": "stdout",
     "output_type": "stream",
     "text": [
      "Original String is James\n",
      "New String: Jms\n"
     ]
    }
   ],
   "source": [
    "str1 = 'James'\n",
    "print(\"Original String is\", str1)\n",
    "# Don't change the code above \n",
    "\n",
    "\n",
    "#Write your code below this line \n",
    "res = str1[0]\n",
    "res += str1[len(str1)//2]\n",
    "res += str1[-1]\n",
    "\n",
    "#  Don't change the code below \n",
    "\n",
    "\n",
    "print(\"New String:\", res)\n"
   ]
  },
  {
   "cell_type": "markdown",
   "id": "e45197ef",
   "metadata": {},
   "source": [
    "# Pet City\n",
    "\n",
    "1. Ask the user for the name of pet.\n",
    "\n",
    "2. Ask the user for the city that they grew up in.\n",
    "\n",
    "3. Combine the name of their city and pet and print city name."
   ]
  },
  {
   "cell_type": "code",
   "execution_count": 13,
   "id": "0a1791aa",
   "metadata": {},
   "outputs": [
    {
     "name": "stdout",
     "output_type": "stream",
     "text": [
      "What is your pet name? \n",
      "doodoo\n",
      "What is your grew up city? \n",
      "Myanaung\n",
      "The name of city which you grew up was Myanaungand your pet is doodoo\n"
     ]
    }
   ],
   "source": [
    "pet_name = input(\"What is your pet name? \\n\")\n",
    "city = input(\"What is your grew up city? \\n\")\n",
    "print(\"The name of city which you grew up was \"+city+\" and your pet is \"+pet_name)"
   ]
  },
  {
   "cell_type": "markdown",
   "id": "0d310b49",
   "metadata": {},
   "source": [
    "# Data types\n",
    "Write a program that adds the digits in a 2 digit number. e.g. if the input was 35, then the output should be 3 + 5 = 8"
   ]
  },
  {
   "cell_type": "markdown",
   "id": "f8476c24",
   "metadata": {},
   "source": [
    "Example Input\n",
    "\n",
    "39\n",
    "\n",
    "Example output \n",
    "\n",
    "3 + 9 = 12\n",
    "\n",
    "12"
   ]
  },
  {
   "cell_type": "code",
   "execution_count": 14,
   "id": "8f4b3ab3",
   "metadata": {
    "ExecuteTime": {
     "end_time": "2022-06-24T16:57:07.252119Z",
     "start_time": "2022-06-24T16:57:07.248661Z"
    }
   },
   "outputs": [
    {
     "name": "stdout",
     "output_type": "stream",
     "text": [
      "Type a two digit number: 39\n",
      "12\n"
     ]
    }
   ],
   "source": [
    "two_digit_number = input(\"Type a two digit number: \")\n",
    "#  Don't change the code above \n",
    "#Write your code below this line \n",
    "print(int(two_digit_number[0]) + int(two_digit_number[1]))"
   ]
  },
  {
   "cell_type": "markdown",
   "id": "52c5deb4",
   "metadata": {},
   "source": [
    "# Tip calculator!\n",
    "\n",
    "What was the total bill? $124.56\n",
    "\n",
    "How much tip would you like to give? 10, 12, or 15? 12\n",
    "\n",
    "How many people to split the bill? 7"
   ]
  },
  {
   "cell_type": "code",
   "execution_count": 17,
   "id": "26e23434",
   "metadata": {},
   "outputs": [
    {
     "name": "stdout",
     "output_type": "stream",
     "text": [
      "!!!Welcome BBC Restaurant!!!\n",
      "What was the total bill? $480\n",
      "How much tip would you like to give? 10, 12, or 15?10\n",
      "How many people to split the bill?4\n",
      "Each person should pay : SGD132.0\n"
     ]
    }
   ],
   "source": [
    "#If the bill was $150.00, split between 5 people, with 12% tip. \n",
    "\n",
    "#Each person should pay (150.00 / 5) * 1.12 = 33.6\n",
    "#Format the result to 2 decimal places = 33.60\n",
    "print(\"!!!Welcome BBC Restaurant!!!\")\n",
    "total_bill = int(input(\"What was the total bill? $\"))\n",
    "tip = int(input(\"How much tip would you like to give? 10, 12, or 15?\"))\n",
    "total_people = int(input(\"How many people to split the bill?\"))\n",
    "\n",
    "tip_per_percantage = tip / 100\n",
    "total_tip_bill = total_bill *  tip_per_percantage\n",
    "last_amount = total_bill + total_tip_bill\n",
    "last_amount_for_each = round(last_amount / total_people,2)\n",
    "\n",
    "print(f'Each person should pay : SGD{last_amount_for_each}')"
   ]
  },
  {
   "cell_type": "markdown",
   "id": "1c3ae3e9",
   "metadata": {},
   "source": [
    "# Even Odd\n",
    "\n",
    "Write a program that works out whether if a given number is an odd or even number.\n",
    "\n",
    "**hint**:\n",
    "The modulo is written as a percentage sign (%) in Python. It gives you the remainder after a division."
   ]
  },
  {
   "cell_type": "code",
   "execution_count": 18,
   "id": "3da7e213",
   "metadata": {},
   "outputs": [
    {
     "name": "stdout",
     "output_type": "stream",
     "text": [
      "Please input the number : 2\n",
      "It's even number\n"
     ]
    }
   ],
   "source": [
    "num = int(input(\"Please input the number : \"))\n",
    "if num % 2 == 0 :\n",
    "    print(\"It's even number\")\n",
    "else:\n",
    "    print(\"It's odd number\")"
   ]
  },
  {
   "cell_type": "markdown",
   "id": "42e246a7",
   "metadata": {
    "ExecuteTime": {
     "end_time": "2022-06-24T03:56:43.028877Z",
     "start_time": "2022-06-24T03:56:43.020860Z"
    }
   },
   "source": [
    "# Calculate the multiplication and sum of two numbers\n",
    "\n",
    "Given two integer numbers return their product only if the product is equal to or lower than 1000, else return their sum.\n",
    "\n",
    "\n",
    "Given \n",
    "\n",
    "```\n",
    "number1 = 20\n",
    "number2 = 30\n",
    "```\n",
    "\n",
    "Expected Output\n",
    "```\n",
    "The result is 600\n",
    "\n",
    "```\n"
   ]
  },
  {
   "cell_type": "code",
   "execution_count": 20,
   "id": "fdf735bc",
   "metadata": {},
   "outputs": [
    {
     "name": "stdout",
     "output_type": "stream",
     "text": [
      "Please input the first number : 2000\n",
      "Please input the second number : 3000\n",
      "5000\n"
     ]
    }
   ],
   "source": [
    "num_1 = int(input(\"Please input the first number : \"))\n",
    "num_2 = int(input(\"Please input the second number : \"))\n",
    "result = num_1 * num_2\n",
    "if result <= 1000 :\n",
    "    result\n",
    "else:\n",
    "    result = num_1 + num_2\n",
    "print(result)"
   ]
  },
  {
   "cell_type": "markdown",
   "id": "d8b11d3c",
   "metadata": {},
   "source": [
    "# BMI Calculator\n",
    "Write a program that interprets the Body Mass Index (BMI) based on a user's weight and height.\n",
    "\n",
    "It should tell them the interpretation of their BMI based on the BMI value.\n",
    "\n",
    "Under 18.5 they are underweight\n",
    "\n",
    "Over 18.5 but below 25 they have a normal weight\n",
    "\n",
    "Over 25 but below 30 they are slightly overweight\n",
    "\n",
    "Over 30 but below 35 they are obese\n",
    "\n",
    "Above 35 they are clinically obese."
   ]
  },
  {
   "cell_type": "code",
   "execution_count": 26,
   "id": "7ea95355",
   "metadata": {},
   "outputs": [
    {
     "name": "stdout",
     "output_type": "stream",
     "text": [
      "enter your height in m: 19.812\n",
      "enter your weight in kg: 90\n",
      "Your BMI is 0.23, you're underweight.\n"
     ]
    }
   ],
   "source": [
    "# 🚨 Don't change the code below 👇\n",
    "height = float(input(\"enter your height in m: \"))\n",
    "weight = float(input(\"enter your weight in kg: \"))\n",
    "# 🚨 Don't change the code above 👆\n",
    "\n",
    "#Write your code below this line 👇\n",
    "bmi = round((weight / (height ** 2)),2)\n",
    "if bmi < 18.5 :\n",
    "    print('Your BMI is '+str(bmi)+\", you're underweight.\")\n",
    "elif bmi > 18.5 and bmi <25 :\n",
    "    print('Your BMI is '+str(bmi)+\", you're  a normal weight.\")\n",
    "elif bmi > 25 and bmi < 30 :\n",
    "    print('Your BMI is '+str(bmi)+\", you're slightly overweight.\")\n",
    "elif bmi > 30 and bim < 35:\n",
    "    print('Your BMI is '+str(bmi)+\", you're obese.\")\n",
    "else:\n",
    "    print('Your BMI is '+str(bmi)+\", you're clinically obese.\")"
   ]
  },
  {
   "cell_type": "code",
   "execution_count": null,
   "id": "658e06df",
   "metadata": {},
   "outputs": [],
   "source": []
  },
  {
   "cell_type": "markdown",
   "id": "828908de",
   "metadata": {},
   "source": [
    "# Calculate the remaining age\n",
    "\n",
    "Create a program using maths and f-Strings that tells us how many days, weeks, months we have left if we live until 90 years old.\n",
    "\n",
    "It will take your current age as the input and output a message with our time left in this format:\n",
    "\n",
    "You have x days, y weeks, and z months left.\n",
    "\n",
    "Where x, y and z are replaced with the actual calculated numbers."
   ]
  },
  {
   "cell_type": "code",
   "execution_count": null,
   "id": "4c38f6fa",
   "metadata": {},
   "outputs": [],
   "source": [
    "age = input(\"What is your current age?\")\n",
    "\n",
    "#Write your code below this line 👇"
   ]
  },
  {
   "cell_type": "code",
   "execution_count": null,
   "id": "1e8569e9",
   "metadata": {},
   "outputs": [],
   "source": []
  },
  {
   "cell_type": "markdown",
   "id": "0045d16e",
   "metadata": {
    "ExecuteTime": {
     "end_time": "2022-06-24T04:08:21.536780Z",
     "start_time": "2022-06-24T04:08:21.532034Z"
    }
   },
   "source": [
    "# Leap Year\n",
    "\n",
    "Write a program that works out whether if a given year is a leap year. \n",
    "\n",
    "This is how you work out whether if a particular year is a leap year.\n",
    "\n",
    "on every year that is evenly divisible by 4 \n",
    "\n",
    "except every year that is evenly divisible by 100 \n",
    "\n",
    "unless the year is also evenly divisible by 400\n",
    "\n",
    "e.g. The year 2000:\n",
    "\n",
    "2000 ÷ 4 = 500 (Leap)\n",
    "\n",
    "2000 ÷ 100 = 20 (Not Leap)\n",
    "\n",
    "2000 ÷ 400 = 5 (Leap!)\n",
    "\n",
    "So the year 2000 is a leap year.\n",
    "\n",
    "But the year 2100 is not a leap year because:\n",
    "\n",
    "2100 ÷ 4 = 525 (Leap)\n",
    "\n",
    "2100 ÷ 100 = 21 (Not Leap)\n",
    "\n",
    "2100 ÷ 400 = 5.25 (Not Leap)"
   ]
  },
  {
   "cell_type": "code",
   "execution_count": null,
   "id": "2f0991bd",
   "metadata": {},
   "outputs": [],
   "source": []
  },
  {
   "cell_type": "markdown",
   "id": "7cc3cc69",
   "metadata": {},
   "source": [
    "# Pizza\n",
    "\n",
    "Congratulations, you've got a job at Python Pizza. Your first job is to build an automatic pizza order program.\n",
    "\n",
    "Based on a user's order, work out their final bill.\n",
    "\n",
    "Small Pizza: $15\n",
    "\n",
    "Medium Pizza: $20\n",
    "\n",
    "Large Pizza: $25\n",
    "\n",
    "Pepperoni for Small Pizza: +$2\n",
    "\n",
    "Pepperoni for Medium or Large Pizza: +$3\n",
    "\n",
    "Extra cheese for any size pizza: + $1"
   ]
  },
  {
   "cell_type": "code",
   "execution_count": null,
   "id": "9e82b4be",
   "metadata": {},
   "outputs": [],
   "source": []
  },
  {
   "cell_type": "markdown",
   "id": "d3e2eadd",
   "metadata": {
    "ExecuteTime": {
     "end_time": "2022-06-24T16:20:03.267987Z",
     "start_time": "2022-06-24T16:20:03.264651Z"
    }
   },
   "source": [
    "# Head or tail\n",
    "You are going to write a virtual coin toss program. It will randomly tell the user \"Heads\" or \"Tails\".\n",
    "\n",
    "Important, the first letter should be capitalised and spelt exactly like in the example e.g. Heads, not heads.\n",
    "\n",
    "When you run the code, just use a random number as the seed. e.g. 67346 It doesn't matter what you chose, it's only for our testing code to check your work.\n",
    "\n",
    "There are many ways of doing this. But to practice what we learnt in the last lesson, you should generate a random number, either 0 or 1. Then use that number to print out Heads or Tails.\n",
    "\n",
    "e.g. 1 means Heads 0 means Tails\n",
    "\n",
    "Example Output\n",
    "Heads\n",
    "or\n",
    "\n",
    "Tails"
   ]
  },
  {
   "cell_type": "code",
   "execution_count": null,
   "id": "1bc046ad",
   "metadata": {},
   "outputs": [],
   "source": []
  },
  {
   "cell_type": "markdown",
   "id": "1deda9bf",
   "metadata": {},
   "source": [
    "# Simple list problem\n",
    "\n",
    "You have given a Python list. Write a program to find value 20 in the list, and if it is present, replace it with 200. Only update the first occurrence of an item.\n",
    "\n",
    "```\n",
    "Given list : [5, 10, 15, 20, 25, 50, 20]\n",
    "\n",
    "Expected Output :\n",
    "[5, 10, 15, 200, 25, 50, 20]\n",
    "\n",
    "\n",
    "```"
   ]
  },
  {
   "cell_type": "code",
   "execution_count": null,
   "id": "557840d0",
   "metadata": {},
   "outputs": [],
   "source": []
  }
 ],
 "metadata": {
  "kernelspec": {
   "display_name": "python_ml",
   "language": "python",
   "name": "python_ml"
  },
  "language_info": {
   "codemirror_mode": {
    "name": "ipython",
    "version": 3
   },
   "file_extension": ".py",
   "mimetype": "text/x-python",
   "name": "python",
   "nbconvert_exporter": "python",
   "pygments_lexer": "ipython3",
   "version": "3.9.0"
  },
  "toc": {
   "base_numbering": 1,
   "nav_menu": {},
   "number_sections": true,
   "sideBar": true,
   "skip_h1_title": false,
   "title_cell": "Table of Contents",
   "title_sidebar": "Contents",
   "toc_cell": false,
   "toc_position": {
    "height": "calc(100% - 180px)",
    "left": "10px",
    "top": "150px",
    "width": "320px"
   },
   "toc_section_display": true,
   "toc_window_display": true
  }
 },
 "nbformat": 4,
 "nbformat_minor": 5
}
